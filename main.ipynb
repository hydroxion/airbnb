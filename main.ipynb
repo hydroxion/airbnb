{
 "cells": [
  {
   "cell_type": "markdown",
   "id": "107f886d-be3f-4d57-aeff-2a1aa44d100f",
   "metadata": {
    "tags": []
   },
   "source": [
    "# Airbnb\n",
    "\n",
    "Airbnb rent price forecasting."
   ]
  },
  {
   "cell_type": "markdown",
   "id": "4ab082ff-061a-4157-a98d-403aedc82a94",
   "metadata": {},
   "source": [
    "## Library"
   ]
  },
  {
   "cell_type": "code",
   "execution_count": 1,
   "id": "c4074bdc-88a6-402b-8711-022b156a9189",
   "metadata": {},
   "outputs": [],
   "source": [
    "from re import sub\n",
    "\n",
    "from numpy import sqrt, mean\n",
    "\n",
    "from pandas import read_csv, DataFrame\n",
    "\n",
    "from matplotlib import pyplot\n",
    "\n",
    "from sklearn import model_selection, metrics\n",
    "\n",
    "from catboost import CatBoostRegressor, Pool"
   ]
  },
  {
   "cell_type": "markdown",
   "id": "5950ce6e-1d62-4a50-bc21-c854f2350587",
   "metadata": {},
   "source": [
    "## Data\n",
    "\n",
    "Data exploration, transformation and selection."
   ]
  },
  {
   "cell_type": "code",
   "execution_count": 2,
   "id": "3e56d424-7f87-40de-9e1e-1e0de65c0fd8",
   "metadata": {},
   "outputs": [],
   "source": [
    "data = read_csv(\n",
    "    './data/airbnb.csv',\n",
    "    usecols=[\n",
    "        'latitude',\n",
    "        'longitude',\n",
    "        'accommodates',\n",
    "        'minimum_minimum_nights',\n",
    "        'price'\n",
    "    ],\n",
    "    converters={\n",
    "        'price': lambda value: float(sub(r'[^\\d\\-.]', '', value))\n",
    "    }\n",
    ")"
   ]
  },
  {
   "cell_type": "code",
   "execution_count": 3,
   "id": "4a542978-f13d-4902-b0a5-dbd63f5d160d",
   "metadata": {},
   "outputs": [
    {
     "data": {
      "text/html": [
       "<div>\n",
       "<style scoped>\n",
       "    .dataframe tbody tr th:only-of-type {\n",
       "        vertical-align: middle;\n",
       "    }\n",
       "\n",
       "    .dataframe tbody tr th {\n",
       "        vertical-align: top;\n",
       "    }\n",
       "\n",
       "    .dataframe thead th {\n",
       "        text-align: right;\n",
       "    }\n",
       "</style>\n",
       "<table border=\"1\" class=\"dataframe\">\n",
       "  <thead>\n",
       "    <tr style=\"text-align: right;\">\n",
       "      <th></th>\n",
       "      <th>latitude</th>\n",
       "      <th>longitude</th>\n",
       "      <th>accommodates</th>\n",
       "      <th>price</th>\n",
       "      <th>minimum_minimum_nights</th>\n",
       "    </tr>\n",
       "  </thead>\n",
       "  <tbody>\n",
       "    <tr>\n",
       "      <th>0</th>\n",
       "      <td>-22.96599</td>\n",
       "      <td>-43.17940</td>\n",
       "      <td>5</td>\n",
       "      <td>350.0</td>\n",
       "      <td>5</td>\n",
       "    </tr>\n",
       "    <tr>\n",
       "      <th>1</th>\n",
       "      <td>-22.98405</td>\n",
       "      <td>-43.20189</td>\n",
       "      <td>2</td>\n",
       "      <td>296.0</td>\n",
       "      <td>3</td>\n",
       "    </tr>\n",
       "    <tr>\n",
       "      <th>2</th>\n",
       "      <td>-22.97735</td>\n",
       "      <td>-43.19105</td>\n",
       "      <td>3</td>\n",
       "      <td>387.0</td>\n",
       "      <td>2</td>\n",
       "    </tr>\n",
       "    <tr>\n",
       "      <th>3</th>\n",
       "      <td>-22.98839</td>\n",
       "      <td>-43.19232</td>\n",
       "      <td>2</td>\n",
       "      <td>172.0</td>\n",
       "      <td>2</td>\n",
       "    </tr>\n",
       "    <tr>\n",
       "      <th>4</th>\n",
       "      <td>-22.98107</td>\n",
       "      <td>-43.19136</td>\n",
       "      <td>2</td>\n",
       "      <td>260.0</td>\n",
       "      <td>3</td>\n",
       "    </tr>\n",
       "  </tbody>\n",
       "</table>\n",
       "</div>"
      ],
      "text/plain": [
       "   latitude  longitude  accommodates  price  minimum_minimum_nights\n",
       "0 -22.96599  -43.17940             5  350.0                       5\n",
       "1 -22.98405  -43.20189             2  296.0                       3\n",
       "2 -22.97735  -43.19105             3  387.0                       2\n",
       "3 -22.98839  -43.19232             2  172.0                       2\n",
       "4 -22.98107  -43.19136             2  260.0                       3"
      ]
     },
     "execution_count": 3,
     "metadata": {},
     "output_type": "execute_result"
    }
   ],
   "source": [
    "data.head()"
   ]
  },
  {
   "cell_type": "code",
   "execution_count": 4,
   "id": "5e540c4d-fe63-45d6-a093-a327f8f2420c",
   "metadata": {},
   "outputs": [
    {
     "data": {
      "text/html": [
       "<div>\n",
       "<style scoped>\n",
       "    .dataframe tbody tr th:only-of-type {\n",
       "        vertical-align: middle;\n",
       "    }\n",
       "\n",
       "    .dataframe tbody tr th {\n",
       "        vertical-align: top;\n",
       "    }\n",
       "\n",
       "    .dataframe thead th {\n",
       "        text-align: right;\n",
       "    }\n",
       "</style>\n",
       "<table border=\"1\" class=\"dataframe\">\n",
       "  <thead>\n",
       "    <tr style=\"text-align: right;\">\n",
       "      <th></th>\n",
       "      <th>latitude</th>\n",
       "      <th>longitude</th>\n",
       "      <th>accommodates</th>\n",
       "      <th>price</th>\n",
       "      <th>minimum_minimum_nights</th>\n",
       "    </tr>\n",
       "  </thead>\n",
       "  <tbody>\n",
       "    <tr>\n",
       "      <th>count</th>\n",
       "      <td>24549.000000</td>\n",
       "      <td>24549.000000</td>\n",
       "      <td>24549.000000</td>\n",
       "      <td>24549.000000</td>\n",
       "      <td>24549.000000</td>\n",
       "    </tr>\n",
       "    <tr>\n",
       "      <th>mean</th>\n",
       "      <td>-22.966484</td>\n",
       "      <td>-43.247681</td>\n",
       "      <td>4.175445</td>\n",
       "      <td>1029.592285</td>\n",
       "      <td>4.933643</td>\n",
       "    </tr>\n",
       "    <tr>\n",
       "      <th>std</th>\n",
       "      <td>0.035107</td>\n",
       "      <td>0.096663</td>\n",
       "      <td>2.488227</td>\n",
       "      <td>5403.742297</td>\n",
       "      <td>20.130429</td>\n",
       "    </tr>\n",
       "    <tr>\n",
       "      <th>min</th>\n",
       "      <td>-23.072670</td>\n",
       "      <td>-43.698710</td>\n",
       "      <td>0.000000</td>\n",
       "      <td>0.000000</td>\n",
       "      <td>1.000000</td>\n",
       "    </tr>\n",
       "    <tr>\n",
       "      <th>25%</th>\n",
       "      <td>-22.984730</td>\n",
       "      <td>-43.299980</td>\n",
       "      <td>2.000000</td>\n",
       "      <td>250.000000</td>\n",
       "      <td>2.000000</td>\n",
       "    </tr>\n",
       "    <tr>\n",
       "      <th>50%</th>\n",
       "      <td>-22.972390</td>\n",
       "      <td>-43.195790</td>\n",
       "      <td>4.000000</td>\n",
       "      <td>479.000000</td>\n",
       "      <td>2.000000</td>\n",
       "    </tr>\n",
       "    <tr>\n",
       "      <th>75%</th>\n",
       "      <td>-22.953280</td>\n",
       "      <td>-43.185980</td>\n",
       "      <td>5.000000</td>\n",
       "      <td>900.000000</td>\n",
       "      <td>4.000000</td>\n",
       "    </tr>\n",
       "    <tr>\n",
       "      <th>max</th>\n",
       "      <td>-22.749690</td>\n",
       "      <td>-43.104400</td>\n",
       "      <td>16.000000</td>\n",
       "      <td>650476.000000</td>\n",
       "      <td>1000.000000</td>\n",
       "    </tr>\n",
       "  </tbody>\n",
       "</table>\n",
       "</div>"
      ],
      "text/plain": [
       "           latitude     longitude  accommodates          price  \\\n",
       "count  24549.000000  24549.000000  24549.000000   24549.000000   \n",
       "mean     -22.966484    -43.247681      4.175445    1029.592285   \n",
       "std        0.035107      0.096663      2.488227    5403.742297   \n",
       "min      -23.072670    -43.698710      0.000000       0.000000   \n",
       "25%      -22.984730    -43.299980      2.000000     250.000000   \n",
       "50%      -22.972390    -43.195790      4.000000     479.000000   \n",
       "75%      -22.953280    -43.185980      5.000000     900.000000   \n",
       "max      -22.749690    -43.104400     16.000000  650476.000000   \n",
       "\n",
       "       minimum_minimum_nights  \n",
       "count            24549.000000  \n",
       "mean                 4.933643  \n",
       "std                 20.130429  \n",
       "min                  1.000000  \n",
       "25%                  2.000000  \n",
       "50%                  2.000000  \n",
       "75%                  4.000000  \n",
       "max               1000.000000  "
      ]
     },
     "execution_count": 4,
     "metadata": {},
     "output_type": "execute_result"
    }
   ],
   "source": [
    "data.describe()"
   ]
  },
  {
   "cell_type": "code",
   "execution_count": 5,
   "id": "f02a904c-9d44-4380-a105-e8db0e0d458a",
   "metadata": {},
   "outputs": [],
   "source": [
    "data.dropna(how='any', inplace=True)"
   ]
  },
  {
   "cell_type": "code",
   "execution_count": 6,
   "id": "5c44f0da-cda3-4962-b0c2-84398db7d294",
   "metadata": {},
   "outputs": [],
   "source": [
    "train, labels = data[['latitude', 'longitude', 'accommodates', 'minimum_minimum_nights']], data['price']"
   ]
  },
  {
   "cell_type": "code",
   "execution_count": 7,
   "id": "47506ca4-61ae-487f-9997-93476f187759",
   "metadata": {},
   "outputs": [],
   "source": [
    "x, x_test, y, y_test = model_selection.train_test_split(train, labels, test_size=0.25, train_size=0.75)"
   ]
  },
  {
   "cell_type": "markdown",
   "id": "b69c75c7-e85a-45cf-937b-9ca77076caba",
   "metadata": {},
   "source": [
    "## Model\n",
    "\n",
    "Regression model and random hyperparameter optimization."
   ]
  },
  {
   "cell_type": "code",
   "execution_count": 8,
   "id": "6c16546f-410f-4fa1-91cb-d70955f3b804",
   "metadata": {},
   "outputs": [],
   "source": [
    "model = CatBoostRegressor(\n",
    "    task_type=\"GPU\",\n",
    "    verbose=False\n",
    ")"
   ]
  },
  {
   "cell_type": "code",
   "execution_count": null,
   "id": "5dc405bf-d05f-4800-87ab-98b2d0dc161e",
   "metadata": {},
   "outputs": [
    {
     "name": "stdout",
     "output_type": "stream",
     "text": [
      "bestTest = 3615.644635\n",
      "bestIteration = 46\n",
      "bestTest = 3640.953472\n",
      "bestIteration = 38\n",
      "bestTest = 3673.441804\n",
      "bestIteration = 999\n",
      "bestTest = 3620.98415\n",
      "bestIteration = 69\n",
      "bestTest = 3603.697009\n",
      "bestIteration = 7\n",
      "bestTest = 3627.915732\n",
      "bestIteration = 7\n",
      "bestTest = 3614.059737\n",
      "bestIteration = 93\n",
      "bestTest = 3615.78351\n",
      "bestIteration = 46\n",
      "bestTest = 3668.456053\n",
      "bestIteration = 999\n"
     ]
    }
   ],
   "source": [
    "%%capture\n",
    "\n",
    "grid = {\n",
    "    'learning_rate': [0.001, 0.04, 0.1, 0.4],\n",
    "    'depth': [4, 6, 10, 14],\n",
    "    'l2_leaf_reg': [1, 3, 5, 7]\n",
    "}\n",
    "\n",
    "model.randomized_search(\n",
    "    grid,\n",
    "    X=x,\n",
    "    y=y,\n",
    "    verbose=False,\n",
    "    plot=False,\n",
    ")"
   ]
  },
  {
   "cell_type": "markdown",
   "id": "acaed738-6a83-468e-b119-4987b39d8112",
   "metadata": {},
   "source": [
    "## Metric"
   ]
  },
  {
   "cell_type": "code",
   "execution_count": null,
   "id": "4a45e06a-e302-4512-852e-8fb24fff8681",
   "metadata": {},
   "outputs": [],
   "source": [
    "predictions = model.predict(x_test)"
   ]
  },
  {
   "cell_type": "code",
   "execution_count": null,
   "id": "df0db0c8-6cf2-42b7-b075-00545b14962e",
   "metadata": {},
   "outputs": [],
   "source": [
    "DataFrame({\n",
    "    'feature_importance': model.get_feature_importance(),\n",
    "    'feature_names': x.columns,\n",
    "}).sort_values(by=['feature_importance'], ascending=False)"
   ]
  },
  {
   "cell_type": "code",
   "execution_count": null,
   "id": "11340c58-fbaf-47b0-9905-066f6461d239",
   "metadata": {},
   "outputs": [],
   "source": [
    "train_pool = Pool(x, y)\n",
    "\n",
    "train_pool_slice = train_pool.slice([1, 4])\n",
    "\n",
    "prediction_diff = model.get_feature_importance(\n",
    "    train_pool_slice,\n",
    "    type='PredictionDiff',\n",
    "    prettified=True,\n",
    "    verbose=False,\n",
    ")\n",
    "\n",
    "model.plot_predictions(\n",
    "    data=train_pool_slice,\n",
    "    features_to_change=prediction_diff[\"Feature Id\"],\n",
    "    plot=True\n",
    ")"
   ]
  },
  {
   "cell_type": "code",
   "execution_count": null,
   "id": "491b5fd0-0110-45e0-8b75-316255dc751c",
   "metadata": {},
   "outputs": [],
   "source": [
    "rmse = sqrt(metrics.mean_squared_error(y_test, predictions))\n",
    "\n",
    "# Lower values indicate less residual variance\n",
    "\n",
    "print(\"RMSE in Y units:\", mean(rmse))"
   ]
  }
 ],
 "metadata": {
  "kernelspec": {
   "display_name": "Python 3 (ipykernel)",
   "language": "python",
   "name": "python3"
  },
  "language_info": {
   "codemirror_mode": {
    "name": "ipython",
    "version": 3
   },
   "file_extension": ".py",
   "mimetype": "text/x-python",
   "name": "python",
   "nbconvert_exporter": "python",
   "pygments_lexer": "ipython3",
   "version": "3.8.10"
  }
 },
 "nbformat": 4,
 "nbformat_minor": 5
}
