{
 "cells": [
  {
   "cell_type": "markdown",
   "id": "107f886d-be3f-4d57-aeff-2a1aa44d100f",
   "metadata": {
    "tags": []
   },
   "source": [
    "# Airbnb\n",
    "\n",
    "Airbnb rent price forecasting."
   ]
  },
  {
   "cell_type": "markdown",
   "id": "4ab082ff-061a-4157-a98d-403aedc82a94",
   "metadata": {},
   "source": [
    "## Library"
   ]
  },
  {
   "cell_type": "code",
   "execution_count": 1,
   "id": "c4074bdc-88a6-402b-8711-022b156a9189",
   "metadata": {},
   "outputs": [],
   "source": [
    "from re import sub\n",
    "\n",
    "from numpy import hstack, sqrt, mean\n",
    "\n",
    "from pandas import read_csv, DataFrame\n",
    "\n",
    "from sklearn import preprocessing, model_selection, metrics\n",
    "\n",
    "from catboost import CatBoostRegressor, Pool"
   ]
  },
  {
   "cell_type": "markdown",
   "id": "5950ce6e-1d62-4a50-bc21-c854f2350587",
   "metadata": {},
   "source": [
    "## Data\n",
    "\n",
    "Data exploration, transformation and selection."
   ]
  },
  {
   "cell_type": "code",
   "execution_count": 2,
   "id": "3e56d424-7f87-40de-9e1e-1e0de65c0fd8",
   "metadata": {},
   "outputs": [],
   "source": [
    "data = read_csv(\n",
    "    './data/airbnb.csv',\n",
    "    usecols=[\n",
    "        'neighbourhood_cleansed',\n",
    "        'accommodates',\n",
    "        'minimum_minimum_nights',\n",
    "        'price'\n",
    "    ],\n",
    "    converters={\n",
    "        'price': lambda value: float(sub(r'[^\\d\\-.]', '', value))\n",
    "    }\n",
    ")"
   ]
  },
  {
   "cell_type": "code",
   "execution_count": 3,
   "id": "4a542978-f13d-4902-b0a5-dbd63f5d160d",
   "metadata": {},
   "outputs": [
    {
     "data": {
      "text/html": [
       "<div>\n",
       "<style scoped>\n",
       "    .dataframe tbody tr th:only-of-type {\n",
       "        vertical-align: middle;\n",
       "    }\n",
       "\n",
       "    .dataframe tbody tr th {\n",
       "        vertical-align: top;\n",
       "    }\n",
       "\n",
       "    .dataframe thead th {\n",
       "        text-align: right;\n",
       "    }\n",
       "</style>\n",
       "<table border=\"1\" class=\"dataframe\">\n",
       "  <thead>\n",
       "    <tr style=\"text-align: right;\">\n",
       "      <th></th>\n",
       "      <th>neighbourhood_cleansed</th>\n",
       "      <th>accommodates</th>\n",
       "      <th>price</th>\n",
       "      <th>minimum_minimum_nights</th>\n",
       "    </tr>\n",
       "  </thead>\n",
       "  <tbody>\n",
       "    <tr>\n",
       "      <th>0</th>\n",
       "      <td>Copacabana</td>\n",
       "      <td>5</td>\n",
       "      <td>350.0</td>\n",
       "      <td>5</td>\n",
       "    </tr>\n",
       "    <tr>\n",
       "      <th>1</th>\n",
       "      <td>Ipanema</td>\n",
       "      <td>2</td>\n",
       "      <td>296.0</td>\n",
       "      <td>3</td>\n",
       "    </tr>\n",
       "    <tr>\n",
       "      <th>2</th>\n",
       "      <td>Copacabana</td>\n",
       "      <td>3</td>\n",
       "      <td>387.0</td>\n",
       "      <td>2</td>\n",
       "    </tr>\n",
       "    <tr>\n",
       "      <th>3</th>\n",
       "      <td>Ipanema</td>\n",
       "      <td>2</td>\n",
       "      <td>172.0</td>\n",
       "      <td>2</td>\n",
       "    </tr>\n",
       "    <tr>\n",
       "      <th>4</th>\n",
       "      <td>Copacabana</td>\n",
       "      <td>2</td>\n",
       "      <td>260.0</td>\n",
       "      <td>3</td>\n",
       "    </tr>\n",
       "  </tbody>\n",
       "</table>\n",
       "</div>"
      ],
      "text/plain": [
       "  neighbourhood_cleansed  accommodates  price  minimum_minimum_nights\n",
       "0             Copacabana             5  350.0                       5\n",
       "1                Ipanema             2  296.0                       3\n",
       "2             Copacabana             3  387.0                       2\n",
       "3                Ipanema             2  172.0                       2\n",
       "4             Copacabana             2  260.0                       3"
      ]
     },
     "execution_count": 3,
     "metadata": {},
     "output_type": "execute_result"
    }
   ],
   "source": [
    "data.head()"
   ]
  },
  {
   "cell_type": "code",
   "execution_count": 4,
   "id": "5e540c4d-fe63-45d6-a093-a327f8f2420c",
   "metadata": {},
   "outputs": [
    {
     "data": {
      "text/html": [
       "<div>\n",
       "<style scoped>\n",
       "    .dataframe tbody tr th:only-of-type {\n",
       "        vertical-align: middle;\n",
       "    }\n",
       "\n",
       "    .dataframe tbody tr th {\n",
       "        vertical-align: top;\n",
       "    }\n",
       "\n",
       "    .dataframe thead th {\n",
       "        text-align: right;\n",
       "    }\n",
       "</style>\n",
       "<table border=\"1\" class=\"dataframe\">\n",
       "  <thead>\n",
       "    <tr style=\"text-align: right;\">\n",
       "      <th></th>\n",
       "      <th>accommodates</th>\n",
       "      <th>price</th>\n",
       "      <th>minimum_minimum_nights</th>\n",
       "    </tr>\n",
       "  </thead>\n",
       "  <tbody>\n",
       "    <tr>\n",
       "      <th>count</th>\n",
       "      <td>24549.000000</td>\n",
       "      <td>24549.000000</td>\n",
       "      <td>24549.000000</td>\n",
       "    </tr>\n",
       "    <tr>\n",
       "      <th>mean</th>\n",
       "      <td>4.175445</td>\n",
       "      <td>1029.592285</td>\n",
       "      <td>4.933643</td>\n",
       "    </tr>\n",
       "    <tr>\n",
       "      <th>std</th>\n",
       "      <td>2.488227</td>\n",
       "      <td>5403.742297</td>\n",
       "      <td>20.130429</td>\n",
       "    </tr>\n",
       "    <tr>\n",
       "      <th>min</th>\n",
       "      <td>0.000000</td>\n",
       "      <td>0.000000</td>\n",
       "      <td>1.000000</td>\n",
       "    </tr>\n",
       "    <tr>\n",
       "      <th>25%</th>\n",
       "      <td>2.000000</td>\n",
       "      <td>250.000000</td>\n",
       "      <td>2.000000</td>\n",
       "    </tr>\n",
       "    <tr>\n",
       "      <th>50%</th>\n",
       "      <td>4.000000</td>\n",
       "      <td>479.000000</td>\n",
       "      <td>2.000000</td>\n",
       "    </tr>\n",
       "    <tr>\n",
       "      <th>75%</th>\n",
       "      <td>5.000000</td>\n",
       "      <td>900.000000</td>\n",
       "      <td>4.000000</td>\n",
       "    </tr>\n",
       "    <tr>\n",
       "      <th>max</th>\n",
       "      <td>16.000000</td>\n",
       "      <td>650476.000000</td>\n",
       "      <td>1000.000000</td>\n",
       "    </tr>\n",
       "  </tbody>\n",
       "</table>\n",
       "</div>"
      ],
      "text/plain": [
       "       accommodates          price  minimum_minimum_nights\n",
       "count  24549.000000   24549.000000            24549.000000\n",
       "mean       4.175445    1029.592285                4.933643\n",
       "std        2.488227    5403.742297               20.130429\n",
       "min        0.000000       0.000000                1.000000\n",
       "25%        2.000000     250.000000                2.000000\n",
       "50%        4.000000     479.000000                2.000000\n",
       "75%        5.000000     900.000000                4.000000\n",
       "max       16.000000  650476.000000             1000.000000"
      ]
     },
     "execution_count": 4,
     "metadata": {},
     "output_type": "execute_result"
    }
   ],
   "source": [
    "data.describe()"
   ]
  },
  {
   "cell_type": "code",
   "execution_count": 5,
   "id": "f02a904c-9d44-4380-a105-e8db0e0d458a",
   "metadata": {},
   "outputs": [],
   "source": [
    "data.dropna(how='any', inplace=True)"
   ]
  },
  {
   "cell_type": "code",
   "execution_count": 6,
   "id": "a742fc4e-6844-47e7-a57b-da35859cad99",
   "metadata": {},
   "outputs": [],
   "source": [
    "data.drop(data[(data.accommodates <= 0) | (data.price <= 0)].index, inplace=True)"
   ]
  },
  {
   "cell_type": "code",
   "execution_count": 7,
   "id": "70ec1a01-ccda-454b-98a3-739f16d36113",
   "metadata": {},
   "outputs": [],
   "source": [
    "label_encoder = preprocessing.LabelEncoder()\n",
    "\n",
    "data.neighbourhood_cleansed = label_encoder.fit_transform(data.neighbourhood_cleansed)"
   ]
  },
  {
   "cell_type": "code",
   "execution_count": 8,
   "id": "6de68cb6-8a38-44dd-8aca-f3d628f3fef4",
   "metadata": {},
   "outputs": [],
   "source": [
    "features = preprocessing.normalize(data.price.values.reshape(-1,1), axis=0)\n",
    "\n",
    "data.price = hstack(features)"
   ]
  },
  {
   "cell_type": "code",
   "execution_count": 9,
   "id": "5c44f0da-cda3-4962-b0c2-84398db7d294",
   "metadata": {},
   "outputs": [],
   "source": [
    "train, labels = data[['neighbourhood_cleansed', 'accommodates', 'minimum_minimum_nights']], data['price']"
   ]
  },
  {
   "cell_type": "code",
   "execution_count": 10,
   "id": "47506ca4-61ae-487f-9997-93476f187759",
   "metadata": {},
   "outputs": [],
   "source": [
    "x, x_test, y, y_test = model_selection.train_test_split(train, labels, test_size=0.25, train_size=0.75)"
   ]
  },
  {
   "cell_type": "markdown",
   "id": "b69c75c7-e85a-45cf-937b-9ca77076caba",
   "metadata": {},
   "source": [
    "## Model\n",
    "\n",
    "Regression model and random search optimization."
   ]
  },
  {
   "cell_type": "code",
   "execution_count": 11,
   "id": "6c16546f-410f-4fa1-91cb-d70955f3b804",
   "metadata": {},
   "outputs": [],
   "source": [
    "model = CatBoostRegressor(\n",
    "    task_type='GPU',\n",
    "    verbose=False\n",
    ")"
   ]
  },
  {
   "cell_type": "code",
   "execution_count": 12,
   "id": "5dc405bf-d05f-4800-87ab-98b2d0dc161e",
   "metadata": {},
   "outputs": [
    {
     "name": "stdout",
     "output_type": "stream",
     "text": [
      "bestTest = 0.004409368075\n",
      "bestIteration = 113\n",
      "bestTest = 0.004409905658\n",
      "bestIteration = 113\n",
      "bestTest = 0.004409250592\n",
      "bestIteration = 252\n",
      "bestTest = 0.004402712261\n",
      "bestIteration = 271\n",
      "bestTest = 0.004400725853\n",
      "bestIteration = 14\n",
      "bestTest = 0.004402042563\n",
      "bestIteration = 198\n",
      "bestTest = 0.004399844072\n",
      "bestIteration = 122\n",
      "bestTest = 0.004400360516\n",
      "bestIteration = 19\n",
      "bestTest = 0.004422088452\n",
      "bestIteration = 3\n",
      "bestTest = 0.004398662645\n",
      "bestIteration = 103\n",
      "Training on fold [0/3]\n",
      "bestTest = 0.00392581907\n",
      "bestIteration = 139\n",
      "Training on fold [1/3]\n",
      "bestTest = 0.004042456852\n",
      "bestIteration = 391\n",
      "Training on fold [2/3]\n",
      "bestTest = 0.01053698137\n",
      "bestIteration = 334\n"
     ]
    }
   ],
   "source": [
    "%%capture\n",
    "\n",
    "grid = {\n",
    "    'iterations': [100, 200, 400, 1000, 2000, 4000],\n",
    "    'learning_rate': [0.01, 0.02, 0.04, 0.1, 0.2, 0.4],\n",
    "    'depth': [1, 2, 4, 6, 10, 14],\n",
    "    'l2_leaf_reg': [1, 3, 5, 7, 9, 11]\n",
    "}\n",
    "\n",
    "model.randomized_search(\n",
    "    grid,\n",
    "    X=x,\n",
    "    y=y,\n",
    "    verbose=False,\n",
    "    plot=False,\n",
    ")"
   ]
  },
  {
   "cell_type": "markdown",
   "id": "acaed738-6a83-468e-b119-4987b39d8112",
   "metadata": {},
   "source": [
    "## Metric"
   ]
  },
  {
   "cell_type": "code",
   "execution_count": 13,
   "id": "4a45e06a-e302-4512-852e-8fb24fff8681",
   "metadata": {},
   "outputs": [],
   "source": [
    "predictions = model.predict(x_test)"
   ]
  },
  {
   "cell_type": "code",
   "execution_count": 14,
   "id": "df0db0c8-6cf2-42b7-b075-00545b14962e",
   "metadata": {},
   "outputs": [
    {
     "data": {
      "text/html": [
       "<div>\n",
       "<style scoped>\n",
       "    .dataframe tbody tr th:only-of-type {\n",
       "        vertical-align: middle;\n",
       "    }\n",
       "\n",
       "    .dataframe tbody tr th {\n",
       "        vertical-align: top;\n",
       "    }\n",
       "\n",
       "    .dataframe thead th {\n",
       "        text-align: right;\n",
       "    }\n",
       "</style>\n",
       "<table border=\"1\" class=\"dataframe\">\n",
       "  <thead>\n",
       "    <tr style=\"text-align: right;\">\n",
       "      <th></th>\n",
       "      <th>feature_importance</th>\n",
       "      <th>feature_names</th>\n",
       "    </tr>\n",
       "  </thead>\n",
       "  <tbody>\n",
       "    <tr>\n",
       "      <th>0</th>\n",
       "      <td>41.085459</td>\n",
       "      <td>neighbourhood_cleansed</td>\n",
       "    </tr>\n",
       "    <tr>\n",
       "      <th>2</th>\n",
       "      <td>35.956268</td>\n",
       "      <td>minimum_minimum_nights</td>\n",
       "    </tr>\n",
       "    <tr>\n",
       "      <th>1</th>\n",
       "      <td>22.958273</td>\n",
       "      <td>accommodates</td>\n",
       "    </tr>\n",
       "  </tbody>\n",
       "</table>\n",
       "</div>"
      ],
      "text/plain": [
       "   feature_importance           feature_names\n",
       "0           41.085459  neighbourhood_cleansed\n",
       "2           35.956268  minimum_minimum_nights\n",
       "1           22.958273            accommodates"
      ]
     },
     "execution_count": 14,
     "metadata": {},
     "output_type": "execute_result"
    }
   ],
   "source": [
    "DataFrame({\n",
    "    'feature_importance': model.get_feature_importance(),\n",
    "    'feature_names': x.columns,\n",
    "}).sort_values(by=['feature_importance'], ascending=False)"
   ]
  },
  {
   "cell_type": "code",
   "execution_count": 15,
   "id": "11340c58-fbaf-47b0-9905-066f6461d239",
   "metadata": {},
   "outputs": [
    {
     "data": {
      "text/html": [
       "        <script type=\"text/javascript\">\n",
       "        window.PlotlyConfig = {MathJaxConfig: 'local'};\n",
       "        if (window.MathJax) {MathJax.Hub.Config({SVG: {font: \"STIX-Web\"}});}\n",
       "        if (typeof require !== 'undefined') {\n",
       "        require.undef(\"plotly\");\n",
       "        requirejs.config({\n",
       "            paths: {\n",
       "                'plotly': ['https://cdn.plot.ly/plotly-2.9.0.min']\n",
       "            }\n",
       "        });\n",
       "        require(['plotly'], function(Plotly) {\n",
       "            window._Plotly = Plotly;\n",
       "        });\n",
       "        }\n",
       "        </script>\n",
       "        "
      ]
     },
     "metadata": {},
     "output_type": "display_data"
    },
    {
     "data": {
      "application/vnd.plotly.v1+json": {
       "config": {
        "linkText": "Export to plot.ly",
        "plotlyServerURL": "https://plot.ly",
        "showLink": false
       },
       "data": [
        {
         "mode": "lines+markers",
         "name": "Document 0 predictions",
         "type": "scatter",
         "y": [
          0.0008324099964613918,
          0.0006344318900304291,
          0.000656732055964282,
          0.0006922218953302472,
          0.0006905462288799846,
          0.0007791213345940129,
          0.0006825653912754248,
          0.0006772843430011832,
          0.0006853373716237954,
          0.0006854238424152115,
          0.0006959407432445275,
          0.0007003184240970128,
          0.0007060558762672642,
          0.0007069640236663233,
          0.0007050190475323959,
          0.0007114601177731217,
          0.0007058903423411422,
          0.0007134991380679523,
          0.0007185607058728394,
          0.000723264355310782,
          0.0007254753191956453,
          0.0007193818164479282,
          0.0007289310258782322,
          0.0007247187099777008,
          0.0006900498347333084,
          0.0007290043314069905,
          0.0007313118871907776,
          0.0007398199711561304,
          0.0007314161453253476,
          0.0013742914271270834,
          0.0018058617170444435,
          0.0009597593211614353,
          0.001052722308755527,
          0.0010869174756882316,
          0.0010454821223353505,
          0.0010491816709743418,
          0.004390628922858575,
          0.0007443992436106939,
          0.0007421042069450934,
          0.0005926020379503072,
          0.0005914591609963438,
          0.0005774042766191201,
          0.0005356924825221654,
          0.0005337040187853859,
          0.0005352961031306336,
          0.00047762289060671037,
          0.0004779638567597999,
          0.0004733175265378975,
          0.0004584359884480804,
          0.0004490974485085175,
          0.00045096747687889405,
          0.00044895873462991176
         ]
        },
        {
         "showlegend": false,
         "type": "scatter",
         "x": [
          0
         ],
         "y": [
          0.0008324099964613918
         ]
        },
        {
         "mode": "lines+markers",
         "name": "Document 1 predictions",
         "type": "scatter",
         "y": [
          0.0016477166220323358,
          0.0005191133130514336,
          0.00047611789687607153,
          0.0005610644644641338,
          0.0005580059314992392,
          0.0007029951810514357,
          0.0006026234830801558,
          0.0005935008197371916,
          0.0006015538483598037,
          0.0006025219670863224,
          0.0006130388679156384,
          0.0006174165487681238,
          0.0006231540009383751,
          0.0006240621483374342,
          0.0006221171722035068,
          0.0006285582424442326,
          0.0006167562808175875,
          0.0006243650765443975,
          0.0006294758663162314,
          0.0006341795157541741,
          0.0006363904796390374,
          0.0006713355354978079,
          0.0006914212188294799,
          0.000687766481466956,
          0.0007600887508384391,
          0.0007838443137880846,
          0.00080189355621052,
          0.0008104016401758729,
          0.0008019978143450901,
          0.0010933496752577598,
          0.001263412096915606,
          0.001370182167545697,
          0.0016783770765488315,
          0.0017272706863212806,
          0.001782155357479387,
          0.0019027845309703695,
          0.0071720824199711375,
          0.001444761892572477,
          0.0012247929978467242,
          0.0010296612109083059,
          0.0010285183339543424,
          0.0010162791816253902,
          0.0009696701428208998,
          0.0009676816790841203,
          0.0009697666720410725,
          0.0009120934595171493,
          0.0009170148862108762,
          0.0009150123099762597,
          0.0009001307718864426,
          0.0008907922319468797,
          0.0008926622603172563,
          0.000890653518068274
         ]
        },
        {
         "showlegend": false,
         "type": "scatter",
         "x": [
          9
         ],
         "y": [
          0.0006025219670863224
         ]
        }
       ],
       "layout": {
        "autosize": true,
        "template": {
         "data": {
          "bar": [
           {
            "error_x": {
             "color": "#2a3f5f"
            },
            "error_y": {
             "color": "#2a3f5f"
            },
            "marker": {
             "line": {
              "color": "#E5ECF6",
              "width": 0.5
             },
             "pattern": {
              "fillmode": "overlay",
              "size": 10,
              "solidity": 0.2
             }
            },
            "type": "bar"
           }
          ],
          "barpolar": [
           {
            "marker": {
             "line": {
              "color": "#E5ECF6",
              "width": 0.5
             },
             "pattern": {
              "fillmode": "overlay",
              "size": 10,
              "solidity": 0.2
             }
            },
            "type": "barpolar"
           }
          ],
          "carpet": [
           {
            "aaxis": {
             "endlinecolor": "#2a3f5f",
             "gridcolor": "white",
             "linecolor": "white",
             "minorgridcolor": "white",
             "startlinecolor": "#2a3f5f"
            },
            "baxis": {
             "endlinecolor": "#2a3f5f",
             "gridcolor": "white",
             "linecolor": "white",
             "minorgridcolor": "white",
             "startlinecolor": "#2a3f5f"
            },
            "type": "carpet"
           }
          ],
          "choropleth": [
           {
            "colorbar": {
             "outlinewidth": 0,
             "ticks": ""
            },
            "type": "choropleth"
           }
          ],
          "contour": [
           {
            "colorbar": {
             "outlinewidth": 0,
             "ticks": ""
            },
            "colorscale": [
             [
              0,
              "#0d0887"
             ],
             [
              0.1111111111111111,
              "#46039f"
             ],
             [
              0.2222222222222222,
              "#7201a8"
             ],
             [
              0.3333333333333333,
              "#9c179e"
             ],
             [
              0.4444444444444444,
              "#bd3786"
             ],
             [
              0.5555555555555556,
              "#d8576b"
             ],
             [
              0.6666666666666666,
              "#ed7953"
             ],
             [
              0.7777777777777778,
              "#fb9f3a"
             ],
             [
              0.8888888888888888,
              "#fdca26"
             ],
             [
              1,
              "#f0f921"
             ]
            ],
            "type": "contour"
           }
          ],
          "contourcarpet": [
           {
            "colorbar": {
             "outlinewidth": 0,
             "ticks": ""
            },
            "type": "contourcarpet"
           }
          ],
          "heatmap": [
           {
            "colorbar": {
             "outlinewidth": 0,
             "ticks": ""
            },
            "colorscale": [
             [
              0,
              "#0d0887"
             ],
             [
              0.1111111111111111,
              "#46039f"
             ],
             [
              0.2222222222222222,
              "#7201a8"
             ],
             [
              0.3333333333333333,
              "#9c179e"
             ],
             [
              0.4444444444444444,
              "#bd3786"
             ],
             [
              0.5555555555555556,
              "#d8576b"
             ],
             [
              0.6666666666666666,
              "#ed7953"
             ],
             [
              0.7777777777777778,
              "#fb9f3a"
             ],
             [
              0.8888888888888888,
              "#fdca26"
             ],
             [
              1,
              "#f0f921"
             ]
            ],
            "type": "heatmap"
           }
          ],
          "heatmapgl": [
           {
            "colorbar": {
             "outlinewidth": 0,
             "ticks": ""
            },
            "colorscale": [
             [
              0,
              "#0d0887"
             ],
             [
              0.1111111111111111,
              "#46039f"
             ],
             [
              0.2222222222222222,
              "#7201a8"
             ],
             [
              0.3333333333333333,
              "#9c179e"
             ],
             [
              0.4444444444444444,
              "#bd3786"
             ],
             [
              0.5555555555555556,
              "#d8576b"
             ],
             [
              0.6666666666666666,
              "#ed7953"
             ],
             [
              0.7777777777777778,
              "#fb9f3a"
             ],
             [
              0.8888888888888888,
              "#fdca26"
             ],
             [
              1,
              "#f0f921"
             ]
            ],
            "type": "heatmapgl"
           }
          ],
          "histogram": [
           {
            "marker": {
             "pattern": {
              "fillmode": "overlay",
              "size": 10,
              "solidity": 0.2
             }
            },
            "type": "histogram"
           }
          ],
          "histogram2d": [
           {
            "colorbar": {
             "outlinewidth": 0,
             "ticks": ""
            },
            "colorscale": [
             [
              0,
              "#0d0887"
             ],
             [
              0.1111111111111111,
              "#46039f"
             ],
             [
              0.2222222222222222,
              "#7201a8"
             ],
             [
              0.3333333333333333,
              "#9c179e"
             ],
             [
              0.4444444444444444,
              "#bd3786"
             ],
             [
              0.5555555555555556,
              "#d8576b"
             ],
             [
              0.6666666666666666,
              "#ed7953"
             ],
             [
              0.7777777777777778,
              "#fb9f3a"
             ],
             [
              0.8888888888888888,
              "#fdca26"
             ],
             [
              1,
              "#f0f921"
             ]
            ],
            "type": "histogram2d"
           }
          ],
          "histogram2dcontour": [
           {
            "colorbar": {
             "outlinewidth": 0,
             "ticks": ""
            },
            "colorscale": [
             [
              0,
              "#0d0887"
             ],
             [
              0.1111111111111111,
              "#46039f"
             ],
             [
              0.2222222222222222,
              "#7201a8"
             ],
             [
              0.3333333333333333,
              "#9c179e"
             ],
             [
              0.4444444444444444,
              "#bd3786"
             ],
             [
              0.5555555555555556,
              "#d8576b"
             ],
             [
              0.6666666666666666,
              "#ed7953"
             ],
             [
              0.7777777777777778,
              "#fb9f3a"
             ],
             [
              0.8888888888888888,
              "#fdca26"
             ],
             [
              1,
              "#f0f921"
             ]
            ],
            "type": "histogram2dcontour"
           }
          ],
          "mesh3d": [
           {
            "colorbar": {
             "outlinewidth": 0,
             "ticks": ""
            },
            "type": "mesh3d"
           }
          ],
          "parcoords": [
           {
            "line": {
             "colorbar": {
              "outlinewidth": 0,
              "ticks": ""
             }
            },
            "type": "parcoords"
           }
          ],
          "pie": [
           {
            "automargin": true,
            "type": "pie"
           }
          ],
          "scatter": [
           {
            "marker": {
             "colorbar": {
              "outlinewidth": 0,
              "ticks": ""
             }
            },
            "type": "scatter"
           }
          ],
          "scatter3d": [
           {
            "line": {
             "colorbar": {
              "outlinewidth": 0,
              "ticks": ""
             }
            },
            "marker": {
             "colorbar": {
              "outlinewidth": 0,
              "ticks": ""
             }
            },
            "type": "scatter3d"
           }
          ],
          "scattercarpet": [
           {
            "marker": {
             "colorbar": {
              "outlinewidth": 0,
              "ticks": ""
             }
            },
            "type": "scattercarpet"
           }
          ],
          "scattergeo": [
           {
            "marker": {
             "colorbar": {
              "outlinewidth": 0,
              "ticks": ""
             }
            },
            "type": "scattergeo"
           }
          ],
          "scattergl": [
           {
            "marker": {
             "colorbar": {
              "outlinewidth": 0,
              "ticks": ""
             }
            },
            "type": "scattergl"
           }
          ],
          "scattermapbox": [
           {
            "marker": {
             "colorbar": {
              "outlinewidth": 0,
              "ticks": ""
             }
            },
            "type": "scattermapbox"
           }
          ],
          "scatterpolar": [
           {
            "marker": {
             "colorbar": {
              "outlinewidth": 0,
              "ticks": ""
             }
            },
            "type": "scatterpolar"
           }
          ],
          "scatterpolargl": [
           {
            "marker": {
             "colorbar": {
              "outlinewidth": 0,
              "ticks": ""
             }
            },
            "type": "scatterpolargl"
           }
          ],
          "scatterternary": [
           {
            "marker": {
             "colorbar": {
              "outlinewidth": 0,
              "ticks": ""
             }
            },
            "type": "scatterternary"
           }
          ],
          "surface": [
           {
            "colorbar": {
             "outlinewidth": 0,
             "ticks": ""
            },
            "colorscale": [
             [
              0,
              "#0d0887"
             ],
             [
              0.1111111111111111,
              "#46039f"
             ],
             [
              0.2222222222222222,
              "#7201a8"
             ],
             [
              0.3333333333333333,
              "#9c179e"
             ],
             [
              0.4444444444444444,
              "#bd3786"
             ],
             [
              0.5555555555555556,
              "#d8576b"
             ],
             [
              0.6666666666666666,
              "#ed7953"
             ],
             [
              0.7777777777777778,
              "#fb9f3a"
             ],
             [
              0.8888888888888888,
              "#fdca26"
             ],
             [
              1,
              "#f0f921"
             ]
            ],
            "type": "surface"
           }
          ],
          "table": [
           {
            "cells": {
             "fill": {
              "color": "#EBF0F8"
             },
             "line": {
              "color": "white"
             }
            },
            "header": {
             "fill": {
              "color": "#C8D4E3"
             },
             "line": {
              "color": "white"
             }
            },
            "type": "table"
           }
          ]
         },
         "layout": {
          "annotationdefaults": {
           "arrowcolor": "#2a3f5f",
           "arrowhead": 0,
           "arrowwidth": 1
          },
          "autotypenumbers": "strict",
          "coloraxis": {
           "colorbar": {
            "outlinewidth": 0,
            "ticks": ""
           }
          },
          "colorscale": {
           "diverging": [
            [
             0,
             "#8e0152"
            ],
            [
             0.1,
             "#c51b7d"
            ],
            [
             0.2,
             "#de77ae"
            ],
            [
             0.3,
             "#f1b6da"
            ],
            [
             0.4,
             "#fde0ef"
            ],
            [
             0.5,
             "#f7f7f7"
            ],
            [
             0.6,
             "#e6f5d0"
            ],
            [
             0.7,
             "#b8e186"
            ],
            [
             0.8,
             "#7fbc41"
            ],
            [
             0.9,
             "#4d9221"
            ],
            [
             1,
             "#276419"
            ]
           ],
           "sequential": [
            [
             0,
             "#0d0887"
            ],
            [
             0.1111111111111111,
             "#46039f"
            ],
            [
             0.2222222222222222,
             "#7201a8"
            ],
            [
             0.3333333333333333,
             "#9c179e"
            ],
            [
             0.4444444444444444,
             "#bd3786"
            ],
            [
             0.5555555555555556,
             "#d8576b"
            ],
            [
             0.6666666666666666,
             "#ed7953"
            ],
            [
             0.7777777777777778,
             "#fb9f3a"
            ],
            [
             0.8888888888888888,
             "#fdca26"
            ],
            [
             1,
             "#f0f921"
            ]
           ],
           "sequentialminus": [
            [
             0,
             "#0d0887"
            ],
            [
             0.1111111111111111,
             "#46039f"
            ],
            [
             0.2222222222222222,
             "#7201a8"
            ],
            [
             0.3333333333333333,
             "#9c179e"
            ],
            [
             0.4444444444444444,
             "#bd3786"
            ],
            [
             0.5555555555555556,
             "#d8576b"
            ],
            [
             0.6666666666666666,
             "#ed7953"
            ],
            [
             0.7777777777777778,
             "#fb9f3a"
            ],
            [
             0.8888888888888888,
             "#fdca26"
            ],
            [
             1,
             "#f0f921"
            ]
           ]
          },
          "colorway": [
           "#636efa",
           "#EF553B",
           "#00cc96",
           "#ab63fa",
           "#FFA15A",
           "#19d3f3",
           "#FF6692",
           "#B6E880",
           "#FF97FF",
           "#FECB52"
          ],
          "font": {
           "color": "#2a3f5f"
          },
          "geo": {
           "bgcolor": "white",
           "lakecolor": "white",
           "landcolor": "#E5ECF6",
           "showlakes": true,
           "showland": true,
           "subunitcolor": "white"
          },
          "hoverlabel": {
           "align": "left"
          },
          "hovermode": "closest",
          "mapbox": {
           "style": "light"
          },
          "paper_bgcolor": "white",
          "plot_bgcolor": "#E5ECF6",
          "polar": {
           "angularaxis": {
            "gridcolor": "white",
            "linecolor": "white",
            "ticks": ""
           },
           "bgcolor": "#E5ECF6",
           "radialaxis": {
            "gridcolor": "white",
            "linecolor": "white",
            "ticks": ""
           }
          },
          "scene": {
           "xaxis": {
            "backgroundcolor": "#E5ECF6",
            "gridcolor": "white",
            "gridwidth": 2,
            "linecolor": "white",
            "showbackground": true,
            "ticks": "",
            "zerolinecolor": "white"
           },
           "yaxis": {
            "backgroundcolor": "#E5ECF6",
            "gridcolor": "white",
            "gridwidth": 2,
            "linecolor": "white",
            "showbackground": true,
            "ticks": "",
            "zerolinecolor": "white"
           },
           "zaxis": {
            "backgroundcolor": "#E5ECF6",
            "gridcolor": "white",
            "gridwidth": 2,
            "linecolor": "white",
            "showbackground": true,
            "ticks": "",
            "zerolinecolor": "white"
           }
          },
          "shapedefaults": {
           "line": {
            "color": "#2a3f5f"
           }
          },
          "ternary": {
           "aaxis": {
            "gridcolor": "white",
            "linecolor": "white",
            "ticks": ""
           },
           "baxis": {
            "gridcolor": "white",
            "linecolor": "white",
            "ticks": ""
           },
           "bgcolor": "#E5ECF6",
           "caxis": {
            "gridcolor": "white",
            "linecolor": "white",
            "ticks": ""
           }
          },
          "title": {
           "x": 0.05
          },
          "xaxis": {
           "automargin": true,
           "gridcolor": "white",
           "linecolor": "white",
           "ticks": "",
           "title": {
            "standoff": 15
           },
           "zerolinecolor": "white",
           "zerolinewidth": 2
          },
          "yaxis": {
           "automargin": true,
           "gridcolor": "white",
           "linecolor": "white",
           "ticks": "",
           "title": {
            "standoff": 15
           },
           "zerolinecolor": "white",
           "zerolinewidth": 2
          }
         }
        },
        "title": {
         "text": "Prediction variation for feature 'minimum_minimum_nights'"
        },
        "xaxis": {
         "autorange": true,
         "range": [
          -3.03399433427762,
          54.03399433427762
         ],
         "showticklabels": false,
         "tickmode": "array",
         "ticktext": [
          "(-inf, 1.5000]",
          "(1.5000, 2.5000]",
          "(2.5000, 3.5000]",
          "(3.5000, 4.5000]",
          "(4.5000, 5.5000]",
          "(5.5000, 6.5000]",
          "(6.5000, 7.5000]",
          "(7.5000, 8.5000]",
          "(8.5000, 9.5000]",
          "(9.5000, 10.5000]",
          "(10.5000, 11.5000]",
          "(11.5000, 12.5000]",
          "(12.5000, 13.5000]",
          "(13.5000, 14.5000]",
          "(14.5000, 15.5000]",
          "(15.5000, 16.5000]",
          "(16.5000, 17.5000]",
          "(17.5000, 19.5000]",
          "(19.5000, 22.5000]",
          "(22.5000, 24.5000]",
          "(24.5000, 26.5000]",
          "(26.5000, 27.5000]",
          "(27.5000, 28.5000]",
          "(28.5000, 29.5000]",
          "(29.5000, 30.5000]",
          "(30.5000, 31.5000]",
          "(31.5000, 33.0000]",
          "(33.0000, 35.0000]",
          "(35.0000, 38.0000]",
          "(38.0000, 45.0000]",
          "(45.0000, 51.0000]",
          "(51.0000, 56.0000]",
          "(56.0000, 70.0000]",
          "(70.0000, 82.5000]",
          "(82.5000, 87.5000]",
          "(87.5000, 95.0000]",
          "(95.0000, 104.5000]",
          "(104.5000, 114.5000]",
          "(114.5000, 123.0000]",
          "(123.0000, 181.0000]",
          "(181.0000, 183.0000]",
          "(183.0000, 192.0000]",
          "(192.0000, 205.0000]",
          "(205.0000, 255.0000]",
          "(255.0000, 330.0000]",
          "(330.0000, 362.0000]",
          "(362.0000, 364.5000]",
          "(364.5000, 432.5000]",
          "(432.5000, 565.0000]",
          "(565.0000, 680.0000]",
          "(680.0000, 865.0000]",
          "(865.0000, +inf)"
         ],
         "tickvals": [
          0,
          1,
          2,
          3,
          4,
          5,
          6,
          7,
          8,
          9,
          10,
          11,
          12,
          13,
          14,
          15,
          16,
          17,
          18,
          19,
          20,
          21,
          22,
          23,
          24,
          25,
          26,
          27,
          28,
          29,
          30,
          31,
          32,
          33,
          34,
          35,
          36,
          37,
          38,
          39,
          40,
          41,
          42,
          43,
          44,
          45,
          46,
          47,
          48,
          49,
          50,
          51
         ],
         "title": {
          "text": "Bins"
         },
         "type": "linear"
        },
        "yaxis": {
         "autorange": true,
         "overlaying": "y2",
         "range": [
          -0.00010586215202446124,
          0.007726903306625511
         ],
         "side": "left",
         "title": {
          "text": "Prediction"
         },
         "type": "linear"
        }
       }
      },
      "image/png": "[encoded data removed]",
      "text/html": [
       "<div>                            <div id=\"9e14a091-c03e-40ee-964c-d347ec0cba8c\" class=\"plotly-graph-div\" style=\"height:525px; width:100%;\"></div>            <script type=\"text/javascript\">                require([\"plotly\"], function(Plotly) {                    window.PLOTLYENV=window.PLOTLYENV || {};                                    if (document.getElementById(\"9e14a091-c03e-40ee-964c-d347ec0cba8c\")) {                    Plotly.newPlot(                        \"9e14a091-c03e-40ee-964c-d347ec0cba8c\",                        [{\"mode\":\"lines+markers\",\"name\":\"Document 0 predictions\",\"y\":[0.0008324099964613918,0.0006344318900304291,0.000656732055964282,0.0006922218953302472,0.0006905462288799846,0.0007791213345940129,0.0006825653912754248,0.0006772843430011832,0.0006853373716237954,0.0006854238424152115,0.0006959407432445275,0.0007003184240970128,0.0007060558762672642,0.0007069640236663233,0.0007050190475323959,0.0007114601177731217,0.0007058903423411422,0.0007134991380679523,0.0007185607058728394,0.000723264355310782,0.0007254753191956453,0.0007193818164479282,0.0007289310258782322,0.0007247187099777008,0.0006900498347333084,0.0007290043314069905,0.0007313118871907776,0.0007398199711561304,0.0007314161453253476,0.0013742914271270834,0.0018058617170444435,0.0009597593211614353,0.001052722308755527,0.0010869174756882316,0.0010454821223353505,0.0010491816709743418,0.004390628922858575,0.0007443992436106939,0.0007421042069450934,0.0005926020379503072,0.0005914591609963438,0.0005774042766191201,0.0005356924825221654,0.0005337040187853859,0.0005352961031306336,0.00047762289060671037,0.0004779638567597999,0.0004733175265378975,0.0004584359884480804,0.0004490974485085175,0.00045096747687889405,0.00044895873462991176],\"type\":\"scatter\"},{\"showlegend\":false,\"x\":[0],\"y\":[0.0008324099964613918],\"type\":\"scatter\"},{\"mode\":\"lines+markers\",\"name\":\"Document 1 predictions\",\"y\":[0.0016477166220323358,0.0005191133130514336,0.00047611789687607153,0.0005610644644641338,0.0005580059314992392,0.0007029951810514357,0.0006026234830801558,0.0005935008197371916,0.0006015538483598037,0.0006025219670863224,0.0006130388679156384,0.0006174165487681238,0.0006231540009383751,0.0006240621483374342,0.0006221171722035068,0.0006285582424442326,0.0006167562808175875,0.0006243650765443975,0.0006294758663162314,0.0006341795157541741,0.0006363904796390374,0.0006713355354978079,0.0006914212188294799,0.000687766481466956,0.0007600887508384391,0.0007838443137880846,0.00080189355621052,0.0008104016401758729,0.0008019978143450901,0.0010933496752577598,0.001263412096915606,0.001370182167545697,0.0016783770765488315,0.0017272706863212806,0.001782155357479387,0.0019027845309703695,0.0071720824199711375,0.001444761892572477,0.0012247929978467242,0.0010296612109083059,0.0010285183339543424,0.0010162791816253902,0.0009696701428208998,0.0009676816790841203,0.0009697666720410725,0.0009120934595171493,0.0009170148862108762,0.0009150123099762597,0.0009001307718864426,0.0008907922319468797,0.0008926622603172563,0.000890653518068274],\"type\":\"scatter\"},{\"showlegend\":false,\"x\":[9],\"y\":[0.0006025219670863224],\"type\":\"scatter\"}],                        {\"template\":{\"data\":{\"barpolar\":[{\"marker\":{\"line\":{\"color\":\"#E5ECF6\",\"width\":0.5},\"pattern\":{\"fillmode\":\"overlay\",\"size\":10,\"solidity\":0.2}},\"type\":\"barpolar\"}],\"bar\":[{\"error_x\":{\"color\":\"#2a3f5f\"},\"error_y\":{\"color\":\"#2a3f5f\"},\"marker\":{\"line\":{\"color\":\"#E5ECF6\",\"width\":0.5},\"pattern\":{\"fillmode\":\"overlay\",\"size\":10,\"solidity\":0.2}},\"type\":\"bar\"}],\"carpet\":[{\"aaxis\":{\"endlinecolor\":\"#2a3f5f\",\"gridcolor\":\"white\",\"linecolor\":\"white\",\"minorgridcolor\":\"white\",\"startlinecolor\":\"#2a3f5f\"},\"baxis\":{\"endlinecolor\":\"#2a3f5f\",\"gridcolor\":\"white\",\"linecolor\":\"white\",\"minorgridcolor\":\"white\",\"startlinecolor\":\"#2a3f5f\"},\"type\":\"carpet\"}],\"choropleth\":[{\"colorbar\":{\"outlinewidth\":0,\"ticks\":\"\"},\"type\":\"choropleth\"}],\"contourcarpet\":[{\"colorbar\":{\"outlinewidth\":0,\"ticks\":\"\"},\"type\":\"contourcarpet\"}],\"contour\":[{\"colorbar\":{\"outlinewidth\":0,\"ticks\":\"\"},\"colorscale\":[[0.0,\"#0d0887\"],[0.1111111111111111,\"#46039f\"],[0.2222222222222222,\"#7201a8\"],[0.3333333333333333,\"#9c179e\"],[0.4444444444444444,\"#bd3786\"],[0.5555555555555556,\"#d8576b\"],[0.6666666666666666,\"#ed7953\"],[0.7777777777777778,\"#fb9f3a\"],[0.8888888888888888,\"#fdca26\"],[1.0,\"#f0f921\"]],\"type\":\"contour\"}],\"heatmapgl\":[{\"colorbar\":{\"outlinewidth\":0,\"ticks\":\"\"},\"colorscale\":[[0.0,\"#0d0887\"],[0.1111111111111111,\"#46039f\"],[0.2222222222222222,\"#7201a8\"],[0.3333333333333333,\"#9c179e\"],[0.4444444444444444,\"#bd3786\"],[0.5555555555555556,\"#d8576b\"],[0.6666666666666666,\"#ed7953\"],[0.7777777777777778,\"#fb9f3a\"],[0.8888888888888888,\"#fdca26\"],[1.0,\"#f0f921\"]],\"type\":\"heatmapgl\"}],\"heatmap\":[{\"colorbar\":{\"outlinewidth\":0,\"ticks\":\"\"},\"colorscale\":[[0.0,\"#0d0887\"],[0.1111111111111111,\"#46039f\"],[0.2222222222222222,\"#7201a8\"],[0.3333333333333333,\"#9c179e\"],[0.4444444444444444,\"#bd3786\"],[0.5555555555555556,\"#d8576b\"],[0.6666666666666666,\"#ed7953\"],[0.7777777777777778,\"#fb9f3a\"],[0.8888888888888888,\"#fdca26\"],[1.0,\"#f0f921\"]],\"type\":\"heatmap\"}],\"histogram2dcontour\":[{\"colorbar\":{\"outlinewidth\":0,\"ticks\":\"\"},\"colorscale\":[[0.0,\"#0d0887\"],[0.1111111111111111,\"#46039f\"],[0.2222222222222222,\"#7201a8\"],[0.3333333333333333,\"#9c179e\"],[0.4444444444444444,\"#bd3786\"],[0.5555555555555556,\"#d8576b\"],[0.6666666666666666,\"#ed7953\"],[0.7777777777777778,\"#fb9f3a\"],[0.8888888888888888,\"#fdca26\"],[1.0,\"#f0f921\"]],\"type\":\"histogram2dcontour\"}],\"histogram2d\":[{\"colorbar\":{\"outlinewidth\":0,\"ticks\":\"\"},\"colorscale\":[[0.0,\"#0d0887\"],[0.1111111111111111,\"#46039f\"],[0.2222222222222222,\"#7201a8\"],[0.3333333333333333,\"#9c179e\"],[0.4444444444444444,\"#bd3786\"],[0.5555555555555556,\"#d8576b\"],[0.6666666666666666,\"#ed7953\"],[0.7777777777777778,\"#fb9f3a\"],[0.8888888888888888,\"#fdca26\"],[1.0,\"#f0f921\"]],\"type\":\"histogram2d\"}],\"histogram\":[{\"marker\":{\"pattern\":{\"fillmode\":\"overlay\",\"size\":10,\"solidity\":0.2}},\"type\":\"histogram\"}],\"mesh3d\":[{\"colorbar\":{\"outlinewidth\":0,\"ticks\":\"\"},\"type\":\"mesh3d\"}],\"parcoords\":[{\"line\":{\"colorbar\":{\"outlinewidth\":0,\"ticks\":\"\"}},\"type\":\"parcoords\"}],\"pie\":[{\"automargin\":true,\"type\":\"pie\"}],\"scatter3d\":[{\"line\":{\"colorbar\":{\"outlinewidth\":0,\"ticks\":\"\"}},\"marker\":{\"colorbar\":{\"outlinewidth\":0,\"ticks\":\"\"}},\"type\":\"scatter3d\"}],\"scattercarpet\":[{\"marker\":{\"colorbar\":{\"outlinewidth\":0,\"ticks\":\"\"}},\"type\":\"scattercarpet\"}],\"scattergeo\":[{\"marker\":{\"colorbar\":{\"outlinewidth\":0,\"ticks\":\"\"}},\"type\":\"scattergeo\"}],\"scattergl\":[{\"marker\":{\"colorbar\":{\"outlinewidth\":0,\"ticks\":\"\"}},\"type\":\"scattergl\"}],\"scattermapbox\":[{\"marker\":{\"colorbar\":{\"outlinewidth\":0,\"ticks\":\"\"}},\"type\":\"scattermapbox\"}],\"scatterpolargl\":[{\"marker\":{\"colorbar\":{\"outlinewidth\":0,\"ticks\":\"\"}},\"type\":\"scatterpolargl\"}],\"scatterpolar\":[{\"marker\":{\"colorbar\":{\"outlinewidth\":0,\"ticks\":\"\"}},\"type\":\"scatterpolar\"}],\"scatter\":[{\"marker\":{\"colorbar\":{\"outlinewidth\":0,\"ticks\":\"\"}},\"type\":\"scatter\"}],\"scatterternary\":[{\"marker\":{\"colorbar\":{\"outlinewidth\":0,\"ticks\":\"\"}},\"type\":\"scatterternary\"}],\"surface\":[{\"colorbar\":{\"outlinewidth\":0,\"ticks\":\"\"},\"colorscale\":[[0.0,\"#0d0887\"],[0.1111111111111111,\"#46039f\"],[0.2222222222222222,\"#7201a8\"],[0.3333333333333333,\"#9c179e\"],[0.4444444444444444,\"#bd3786\"],[0.5555555555555556,\"#d8576b\"],[0.6666666666666666,\"#ed7953\"],[0.7777777777777778,\"#fb9f3a\"],[0.8888888888888888,\"#fdca26\"],[1.0,\"#f0f921\"]],\"type\":\"surface\"}],\"table\":[{\"cells\":{\"fill\":{\"color\":\"#EBF0F8\"},\"line\":{\"color\":\"white\"}},\"header\":{\"fill\":{\"color\":\"#C8D4E3\"},\"line\":{\"color\":\"white\"}},\"type\":\"table\"}]},\"layout\":{\"annotationdefaults\":{\"arrowcolor\":\"#2a3f5f\",\"arrowhead\":0,\"arrowwidth\":1},\"autotypenumbers\":\"strict\",\"coloraxis\":{\"colorbar\":{\"outlinewidth\":0,\"ticks\":\"\"}},\"colorscale\":{\"diverging\":[[0,\"#8e0152\"],[0.1,\"#c51b7d\"],[0.2,\"#de77ae\"],[0.3,\"#f1b6da\"],[0.4,\"#fde0ef\"],[0.5,\"#f7f7f7\"],[0.6,\"#e6f5d0\"],[0.7,\"#b8e186\"],[0.8,\"#7fbc41\"],[0.9,\"#4d9221\"],[1,\"#276419\"]],\"sequential\":[[0.0,\"#0d0887\"],[0.1111111111111111,\"#46039f\"],[0.2222222222222222,\"#7201a8\"],[0.3333333333333333,\"#9c179e\"],[0.4444444444444444,\"#bd3786\"],[0.5555555555555556,\"#d8576b\"],[0.6666666666666666,\"#ed7953\"],[0.7777777777777778,\"#fb9f3a\"],[0.8888888888888888,\"#fdca26\"],[1.0,\"#f0f921\"]],\"sequentialminus\":[[0.0,\"#0d0887\"],[0.1111111111111111,\"#46039f\"],[0.2222222222222222,\"#7201a8\"],[0.3333333333333333,\"#9c179e\"],[0.4444444444444444,\"#bd3786\"],[0.5555555555555556,\"#d8576b\"],[0.6666666666666666,\"#ed7953\"],[0.7777777777777778,\"#fb9f3a\"],[0.8888888888888888,\"#fdca26\"],[1.0,\"#f0f921\"]]},\"colorway\":[\"#636efa\",\"#EF553B\",\"#00cc96\",\"#ab63fa\",\"#FFA15A\",\"#19d3f3\",\"#FF6692\",\"#B6E880\",\"#FF97FF\",\"#FECB52\"],\"font\":{\"color\":\"#2a3f5f\"},\"geo\":{\"bgcolor\":\"white\",\"lakecolor\":\"white\",\"landcolor\":\"#E5ECF6\",\"showlakes\":true,\"showland\":true,\"subunitcolor\":\"white\"},\"hoverlabel\":{\"align\":\"left\"},\"hovermode\":\"closest\",\"mapbox\":{\"style\":\"light\"},\"paper_bgcolor\":\"white\",\"plot_bgcolor\":\"#E5ECF6\",\"polar\":{\"angularaxis\":{\"gridcolor\":\"white\",\"linecolor\":\"white\",\"ticks\":\"\"},\"bgcolor\":\"#E5ECF6\",\"radialaxis\":{\"gridcolor\":\"white\",\"linecolor\":\"white\",\"ticks\":\"\"}},\"scene\":{\"xaxis\":{\"backgroundcolor\":\"#E5ECF6\",\"gridcolor\":\"white\",\"gridwidth\":2,\"linecolor\":\"white\",\"showbackground\":true,\"ticks\":\"\",\"zerolinecolor\":\"white\"},\"yaxis\":{\"backgroundcolor\":\"#E5ECF6\",\"gridcolor\":\"white\",\"gridwidth\":2,\"linecolor\":\"white\",\"showbackground\":true,\"ticks\":\"\",\"zerolinecolor\":\"white\"},\"zaxis\":{\"backgroundcolor\":\"#E5ECF6\",\"gridcolor\":\"white\",\"gridwidth\":2,\"linecolor\":\"white\",\"showbackground\":true,\"ticks\":\"\",\"zerolinecolor\":\"white\"}},\"shapedefaults\":{\"line\":{\"color\":\"#2a3f5f\"}},\"ternary\":{\"aaxis\":{\"gridcolor\":\"white\",\"linecolor\":\"white\",\"ticks\":\"\"},\"baxis\":{\"gridcolor\":\"white\",\"linecolor\":\"white\",\"ticks\":\"\"},\"bgcolor\":\"#E5ECF6\",\"caxis\":{\"gridcolor\":\"white\",\"linecolor\":\"white\",\"ticks\":\"\"}},\"title\":{\"x\":0.05},\"xaxis\":{\"automargin\":true,\"gridcolor\":\"white\",\"linecolor\":\"white\",\"ticks\":\"\",\"title\":{\"standoff\":15},\"zerolinecolor\":\"white\",\"zerolinewidth\":2},\"yaxis\":{\"automargin\":true,\"gridcolor\":\"white\",\"linecolor\":\"white\",\"ticks\":\"\",\"title\":{\"standoff\":15},\"zerolinecolor\":\"white\",\"zerolinewidth\":2}}},\"title\":{\"text\":\"Prediction variation for feature 'minimum_minimum_nights'\"},\"xaxis\":{\"showticklabels\":false,\"tickmode\":\"array\",\"ticktext\":[\"(-inf, 1.5000]\",\"(1.5000, 2.5000]\",\"(2.5000, 3.5000]\",\"(3.5000, 4.5000]\",\"(4.5000, 5.5000]\",\"(5.5000, 6.5000]\",\"(6.5000, 7.5000]\",\"(7.5000, 8.5000]\",\"(8.5000, 9.5000]\",\"(9.5000, 10.5000]\",\"(10.5000, 11.5000]\",\"(11.5000, 12.5000]\",\"(12.5000, 13.5000]\",\"(13.5000, 14.5000]\",\"(14.5000, 15.5000]\",\"(15.5000, 16.5000]\",\"(16.5000, 17.5000]\",\"(17.5000, 19.5000]\",\"(19.5000, 22.5000]\",\"(22.5000, 24.5000]\",\"(24.5000, 26.5000]\",\"(26.5000, 27.5000]\",\"(27.5000, 28.5000]\",\"(28.5000, 29.5000]\",\"(29.5000, 30.5000]\",\"(30.5000, 31.5000]\",\"(31.5000, 33.0000]\",\"(33.0000, 35.0000]\",\"(35.0000, 38.0000]\",\"(38.0000, 45.0000]\",\"(45.0000, 51.0000]\",\"(51.0000, 56.0000]\",\"(56.0000, 70.0000]\",\"(70.0000, 82.5000]\",\"(82.5000, 87.5000]\",\"(87.5000, 95.0000]\",\"(95.0000, 104.5000]\",\"(104.5000, 114.5000]\",\"(114.5000, 123.0000]\",\"(123.0000, 181.0000]\",\"(181.0000, 183.0000]\",\"(183.0000, 192.0000]\",\"(192.0000, 205.0000]\",\"(205.0000, 255.0000]\",\"(255.0000, 330.0000]\",\"(330.0000, 362.0000]\",\"(362.0000, 364.5000]\",\"(364.5000, 432.5000]\",\"(432.5000, 565.0000]\",\"(565.0000, 680.0000]\",\"(680.0000, 865.0000]\",\"(865.0000, +inf)\"],\"tickvals\":[0,1,2,3,4,5,6,7,8,9,10,11,12,13,14,15,16,17,18,19,20,21,22,23,24,25,26,27,28,29,30,31,32,33,34,35,36,37,38,39,40,41,42,43,44,45,46,47,48,49,50,51],\"title\":{\"text\":\"Bins\"}},\"yaxis\":{\"overlaying\":\"y2\",\"side\":\"left\",\"title\":{\"text\":\"Prediction\"}}},                        {\"responsive\": true}                    ).then(function(){\n",
       "                            \n",
       "var gd = document.getElementById('9e14a091-c03e-40ee-964c-d347ec0cba8c');\n",
       "var x = new MutationObserver(function (mutations, observer) {{\n",
       "        var display = window.getComputedStyle(gd).display;\n",
       "        if (!display || display === 'none') {{\n",
       "            console.log([gd, 'removed!']);\n",
       "            Plotly.purge(gd);\n",
       "            observer.disconnect();\n",
       "        }}\n",
       "}});\n",
       "\n",
       "// Listen for the removal of the full notebook cells\n",
       "var notebookContainer = gd.closest('#notebook-container');\n",
       "if (notebookContainer) {{\n",
       "    x.observe(notebookContainer, {childList: true});\n",
       "}}\n",
       "\n",
       "// Listen for the clearing of the current output cell\n",
       "var outputEl = gd.closest('.output');\n",
       "if (outputEl) {{\n",
       "    x.observe(outputEl, {childList: true});\n",
       "}}\n",
       "\n",
       "                        })                };                });            </script>        </div>"
      ]
     },
     "metadata": {},
     "output_type": "display_data"
    },
    {
     "data": {
      "application/vnd.plotly.v1+json": {
       "config": {
        "linkText": "Export to plot.ly",
        "plotlyServerURL": "https://plot.ly",
        "showLink": false
       },
       "data": [
        {
         "mode": "lines+markers",
         "name": "Document 0 predictions",
         "type": "scatter",
         "y": [
          0.0007255796956335825,
          0.0008324099964613918,
          0.0009544603955606856,
          0.0018501644439730125,
          0.0016085136143120238,
          0.0018121857397908059,
          0.0018571931655664287,
          0.00306812537577672,
          0.0025408147630803235,
          0.002827378686128146,
          0.002423503002081606,
          0.003516874724699637,
          0.003875711567124629,
          0.004267247661060569,
          0.003341403663889242,
          0.0033143263091224284
         ]
        },
        {
         "showlegend": false,
         "type": "scatter",
         "x": [
          1
         ],
         "y": [
          0.0008324099964613918
         ]
        },
        {
         "mode": "lines+markers",
         "name": "Document 1 predictions",
         "type": "scatter",
         "y": [
          0.0005237588602496901,
          0.0006025219670863224,
          0.0006476241389999915,
          0.00094308296786072,
          0.0011857541408151206,
          0.002116203959337426,
          0.0020554055721060394,
          0.0024209714996139553,
          0.00273849809655502,
          0.0037311576736724916,
          0.003642944344536936,
          0.0046143448690072475,
          0.004016613767320543,
          0.0038597143765466413,
          0.003459087075770917,
          0.0035445965112073097
         ]
        },
        {
         "showlegend": false,
         "type": "scatter",
         "x": [
          1
         ],
         "y": [
          0.0006025219670863224
         ]
        }
       ],
       "layout": {
        "autosize": true,
        "template": {
         "data": {
          "bar": [
           {
            "error_x": {
             "color": "#2a3f5f"
            },
            "error_y": {
             "color": "#2a3f5f"
            },
            "marker": {
             "line": {
              "color": "#E5ECF6",
              "width": 0.5
             },
             "pattern": {
              "fillmode": "overlay",
              "size": 10,
              "solidity": 0.2
             }
            },
            "type": "bar"
           }
          ],
          "barpolar": [
           {
            "marker": {
             "line": {
              "color": "#E5ECF6",
              "width": 0.5
             },
             "pattern": {
              "fillmode": "overlay",
              "size": 10,
              "solidity": 0.2
             }
            },
            "type": "barpolar"
           }
          ],
          "carpet": [
           {
            "aaxis": {
             "endlinecolor": "#2a3f5f",
             "gridcolor": "white",
             "linecolor": "white",
             "minorgridcolor": "white",
             "startlinecolor": "#2a3f5f"
            },
            "baxis": {
             "endlinecolor": "#2a3f5f",
             "gridcolor": "white",
             "linecolor": "white",
             "minorgridcolor": "white",
             "startlinecolor": "#2a3f5f"
            },
            "type": "carpet"
           }
          ],
          "choropleth": [
           {
            "colorbar": {
             "outlinewidth": 0,
             "ticks": ""
            },
            "type": "choropleth"
           }
          ],
          "contour": [
           {
            "colorbar": {
             "outlinewidth": 0,
             "ticks": ""
            },
            "colorscale": [
             [
              0,
              "#0d0887"
             ],
             [
              0.1111111111111111,
              "#46039f"
             ],
             [
              0.2222222222222222,
              "#7201a8"
             ],
             [
              0.3333333333333333,
              "#9c179e"
             ],
             [
              0.4444444444444444,
              "#bd3786"
             ],
             [
              0.5555555555555556,
              "#d8576b"
             ],
             [
              0.6666666666666666,
              "#ed7953"
             ],
             [
              0.7777777777777778,
              "#fb9f3a"
             ],
             [
              0.8888888888888888,
              "#fdca26"
             ],
             [
              1,
              "#f0f921"
             ]
            ],
            "type": "contour"
           }
          ],
          "contourcarpet": [
           {
            "colorbar": {
             "outlinewidth": 0,
             "ticks": ""
            },
            "type": "contourcarpet"
           }
          ],
          "heatmap": [
           {
            "colorbar": {
             "outlinewidth": 0,
             "ticks": ""
            },
            "colorscale": [
             [
              0,
              "#0d0887"
             ],
             [
              0.1111111111111111,
              "#46039f"
             ],
             [
              0.2222222222222222,
              "#7201a8"
             ],
             [
              0.3333333333333333,
              "#9c179e"
             ],
             [
              0.4444444444444444,
              "#bd3786"
             ],
             [
              0.5555555555555556,
              "#d8576b"
             ],
             [
              0.6666666666666666,
              "#ed7953"
             ],
             [
              0.7777777777777778,
              "#fb9f3a"
             ],
             [
              0.8888888888888888,
              "#fdca26"
             ],
             [
              1,
              "#f0f921"
             ]
            ],
            "type": "heatmap"
           }
          ],
          "heatmapgl": [
           {
            "colorbar": {
             "outlinewidth": 0,
             "ticks": ""
            },
            "colorscale": [
             [
              0,
              "#0d0887"
             ],
             [
              0.1111111111111111,
              "#46039f"
             ],
             [
              0.2222222222222222,
              "#7201a8"
             ],
             [
              0.3333333333333333,
              "#9c179e"
             ],
             [
              0.4444444444444444,
              "#bd3786"
             ],
             [
              0.5555555555555556,
              "#d8576b"
             ],
             [
              0.6666666666666666,
              "#ed7953"
             ],
             [
              0.7777777777777778,
              "#fb9f3a"
             ],
             [
              0.8888888888888888,
              "#fdca26"
             ],
             [
              1,
              "#f0f921"
             ]
            ],
            "type": "heatmapgl"
           }
          ],
          "histogram": [
           {
            "marker": {
             "pattern": {
              "fillmode": "overlay",
              "size": 10,
              "solidity": 0.2
             }
            },
            "type": "histogram"
           }
          ],
          "histogram2d": [
           {
            "colorbar": {
             "outlinewidth": 0,
             "ticks": ""
            },
            "colorscale": [
             [
              0,
              "#0d0887"
             ],
             [
              0.1111111111111111,
              "#46039f"
             ],
             [
              0.2222222222222222,
              "#7201a8"
             ],
             [
              0.3333333333333333,
              "#9c179e"
             ],
             [
              0.4444444444444444,
              "#bd3786"
             ],
             [
              0.5555555555555556,
              "#d8576b"
             ],
             [
              0.6666666666666666,
              "#ed7953"
             ],
             [
              0.7777777777777778,
              "#fb9f3a"
             ],
             [
              0.8888888888888888,
              "#fdca26"
             ],
             [
              1,
              "#f0f921"
             ]
            ],
            "type": "histogram2d"
           }
          ],
          "histogram2dcontour": [
           {
            "colorbar": {
             "outlinewidth": 0,
             "ticks": ""
            },
            "colorscale": [
             [
              0,
              "#0d0887"
             ],
             [
              0.1111111111111111,
              "#46039f"
             ],
             [
              0.2222222222222222,
              "#7201a8"
             ],
             [
              0.3333333333333333,
              "#9c179e"
             ],
             [
              0.4444444444444444,
              "#bd3786"
             ],
             [
              0.5555555555555556,
              "#d8576b"
             ],
             [
              0.6666666666666666,
              "#ed7953"
             ],
             [
              0.7777777777777778,
              "#fb9f3a"
             ],
             [
              0.8888888888888888,
              "#fdca26"
             ],
             [
              1,
              "#f0f921"
             ]
            ],
            "type": "histogram2dcontour"
           }
          ],
          "mesh3d": [
           {
            "colorbar": {
             "outlinewidth": 0,
             "ticks": ""
            },
            "type": "mesh3d"
           }
          ],
          "parcoords": [
           {
            "line": {
             "colorbar": {
              "outlinewidth": 0,
              "ticks": ""
             }
            },
            "type": "parcoords"
           }
          ],
          "pie": [
           {
            "automargin": true,
            "type": "pie"
           }
          ],
          "scatter": [
           {
            "marker": {
             "colorbar": {
              "outlinewidth": 0,
              "ticks": ""
             }
            },
            "type": "scatter"
           }
          ],
          "scatter3d": [
           {
            "line": {
             "colorbar": {
              "outlinewidth": 0,
              "ticks": ""
             }
            },
            "marker": {
             "colorbar": {
              "outlinewidth": 0,
              "ticks": ""
             }
            },
            "type": "scatter3d"
           }
          ],
          "scattercarpet": [
           {
            "marker": {
             "colorbar": {
              "outlinewidth": 0,
              "ticks": ""
             }
            },
            "type": "scattercarpet"
           }
          ],
          "scattergeo": [
           {
            "marker": {
             "colorbar": {
              "outlinewidth": 0,
              "ticks": ""
             }
            },
            "type": "scattergeo"
           }
          ],
          "scattergl": [
           {
            "marker": {
             "colorbar": {
              "outlinewidth": 0,
              "ticks": ""
             }
            },
            "type": "scattergl"
           }
          ],
          "scattermapbox": [
           {
            "marker": {
             "colorbar": {
              "outlinewidth": 0,
              "ticks": ""
             }
            },
            "type": "scattermapbox"
           }
          ],
          "scatterpolar": [
           {
            "marker": {
             "colorbar": {
              "outlinewidth": 0,
              "ticks": ""
             }
            },
            "type": "scatterpolar"
           }
          ],
          "scatterpolargl": [
           {
            "marker": {
             "colorbar": {
              "outlinewidth": 0,
              "ticks": ""
             }
            },
            "type": "scatterpolargl"
           }
          ],
          "scatterternary": [
           {
            "marker": {
             "colorbar": {
              "outlinewidth": 0,
              "ticks": ""
             }
            },
            "type": "scatterternary"
           }
          ],
          "surface": [
           {
            "colorbar": {
             "outlinewidth": 0,
             "ticks": ""
            },
            "colorscale": [
             [
              0,
              "#0d0887"
             ],
             [
              0.1111111111111111,
              "#46039f"
             ],
             [
              0.2222222222222222,
              "#7201a8"
             ],
             [
              0.3333333333333333,
              "#9c179e"
             ],
             [
              0.4444444444444444,
              "#bd3786"
             ],
             [
              0.5555555555555556,
              "#d8576b"
             ],
             [
              0.6666666666666666,
              "#ed7953"
             ],
             [
              0.7777777777777778,
              "#fb9f3a"
             ],
             [
              0.8888888888888888,
              "#fdca26"
             ],
             [
              1,
              "#f0f921"
             ]
            ],
            "type": "surface"
           }
          ],
          "table": [
           {
            "cells": {
             "fill": {
              "color": "#EBF0F8"
             },
             "line": {
              "color": "white"
             }
            },
            "header": {
             "fill": {
              "color": "#C8D4E3"
             },
             "line": {
              "color": "white"
             }
            },
            "type": "table"
           }
          ]
         },
         "layout": {
          "annotationdefaults": {
           "arrowcolor": "#2a3f5f",
           "arrowhead": 0,
           "arrowwidth": 1
          },
          "autotypenumbers": "strict",
          "coloraxis": {
           "colorbar": {
            "outlinewidth": 0,
            "ticks": ""
           }
          },
          "colorscale": {
           "diverging": [
            [
             0,
             "#8e0152"
            ],
            [
             0.1,
             "#c51b7d"
            ],
            [
             0.2,
             "#de77ae"
            ],
            [
             0.3,
             "#f1b6da"
            ],
            [
             0.4,
             "#fde0ef"
            ],
            [
             0.5,
             "#f7f7f7"
            ],
            [
             0.6,
             "#e6f5d0"
            ],
            [
             0.7,
             "#b8e186"
            ],
            [
             0.8,
             "#7fbc41"
            ],
            [
             0.9,
             "#4d9221"
            ],
            [
             1,
             "#276419"
            ]
           ],
           "sequential": [
            [
             0,
             "#0d0887"
            ],
            [
             0.1111111111111111,
             "#46039f"
            ],
            [
             0.2222222222222222,
             "#7201a8"
            ],
            [
             0.3333333333333333,
             "#9c179e"
            ],
            [
             0.4444444444444444,
             "#bd3786"
            ],
            [
             0.5555555555555556,
             "#d8576b"
            ],
            [
             0.6666666666666666,
             "#ed7953"
            ],
            [
             0.7777777777777778,
             "#fb9f3a"
            ],
            [
             0.8888888888888888,
             "#fdca26"
            ],
            [
             1,
             "#f0f921"
            ]
           ],
           "sequentialminus": [
            [
             0,
             "#0d0887"
            ],
            [
             0.1111111111111111,
             "#46039f"
            ],
            [
             0.2222222222222222,
             "#7201a8"
            ],
            [
             0.3333333333333333,
             "#9c179e"
            ],
            [
             0.4444444444444444,
             "#bd3786"
            ],
            [
             0.5555555555555556,
             "#d8576b"
            ],
            [
             0.6666666666666666,
             "#ed7953"
            ],
            [
             0.7777777777777778,
             "#fb9f3a"
            ],
            [
             0.8888888888888888,
             "#fdca26"
            ],
            [
             1,
             "#f0f921"
            ]
           ]
          },
          "colorway": [
           "#636efa",
           "#EF553B",
           "#00cc96",
           "#ab63fa",
           "#FFA15A",
           "#19d3f3",
           "#FF6692",
           "#B6E880",
           "#FF97FF",
           "#FECB52"
          ],
          "font": {
           "color": "#2a3f5f"
          },
          "geo": {
           "bgcolor": "white",
           "lakecolor": "white",
           "landcolor": "#E5ECF6",
           "showlakes": true,
           "showland": true,
           "subunitcolor": "white"
          },
          "hoverlabel": {
           "align": "left"
          },
          "hovermode": "closest",
          "mapbox": {
           "style": "light"
          },
          "paper_bgcolor": "white",
          "plot_bgcolor": "#E5ECF6",
          "polar": {
           "angularaxis": {
            "gridcolor": "white",
            "linecolor": "white",
            "ticks": ""
           },
           "bgcolor": "#E5ECF6",
           "radialaxis": {
            "gridcolor": "white",
            "linecolor": "white",
            "ticks": ""
           }
          },
          "scene": {
           "xaxis": {
            "backgroundcolor": "#E5ECF6",
            "gridcolor": "white",
            "gridwidth": 2,
            "linecolor": "white",
            "showbackground": true,
            "ticks": "",
            "zerolinecolor": "white"
           },
           "yaxis": {
            "backgroundcolor": "#E5ECF6",
            "gridcolor": "white",
            "gridwidth": 2,
            "linecolor": "white",
            "showbackground": true,
            "ticks": "",
            "zerolinecolor": "white"
           },
           "zaxis": {
            "backgroundcolor": "#E5ECF6",
            "gridcolor": "white",
            "gridwidth": 2,
            "linecolor": "white",
            "showbackground": true,
            "ticks": "",
            "zerolinecolor": "white"
           }
          },
          "shapedefaults": {
           "line": {
            "color": "#2a3f5f"
           }
          },
          "ternary": {
           "aaxis": {
            "gridcolor": "white",
            "linecolor": "white",
            "ticks": ""
           },
           "baxis": {
            "gridcolor": "white",
            "linecolor": "white",
            "ticks": ""
           },
           "bgcolor": "#E5ECF6",
           "caxis": {
            "gridcolor": "white",
            "linecolor": "white",
            "ticks": ""
           }
          },
          "title": {
           "x": 0.05
          },
          "xaxis": {
           "automargin": true,
           "gridcolor": "white",
           "linecolor": "white",
           "ticks": "",
           "title": {
            "standoff": 15
           },
           "zerolinecolor": "white",
           "zerolinewidth": 2
          },
          "yaxis": {
           "automargin": true,
           "gridcolor": "white",
           "linecolor": "white",
           "ticks": "",
           "title": {
            "standoff": 15
           },
           "zerolinecolor": "white",
           "zerolinewidth": 2
          }
         }
        },
        "title": {
         "text": "Prediction variation for feature 'accommodates'"
        },
        "xaxis": {
         "autorange": true,
         "range": [
          -0.8923512747875354,
          15.892351274787535
         ],
         "showticklabels": false,
         "tickmode": "array",
         "ticktext": [
          "(-inf, 1.5000]",
          "(1.5000, 2.5000]",
          "(2.5000, 3.5000]",
          "(3.5000, 4.5000]",
          "(4.5000, 5.5000]",
          "(5.5000, 6.5000]",
          "(6.5000, 7.5000]",
          "(7.5000, 8.5000]",
          "(8.5000, 9.5000]",
          "(9.5000, 10.5000]",
          "(10.5000, 11.5000]",
          "(11.5000, 12.5000]",
          "(12.5000, 13.5000]",
          "(13.5000, 14.5000]",
          "(14.5000, 15.5000]",
          "(15.5000, +inf)"
         ],
         "tickvals": [
          0,
          1,
          2,
          3,
          4,
          5,
          6,
          7,
          8,
          9,
          10,
          11,
          12,
          13,
          14,
          15
         ],
         "title": {
          "text": "Bins"
         },
         "type": "linear"
        },
        "yaxis": {
         "autorange": true,
         "overlaying": "y2",
         "range": [
          0.0001861862284590179,
          0.00495191750079792
         ],
         "side": "left",
         "title": {
          "text": "Prediction"
         },
         "type": "linear"
        }
       }
      },
      "image/png": "[encoded data removed]",
      "text/html": [
       "<div>                            <div id=\"ce11c575-0d54-423c-bc74-c64c0deb9959\" class=\"plotly-graph-div\" style=\"height:525px; width:100%;\"></div>            <script type=\"text/javascript\">                require([\"plotly\"], function(Plotly) {                    window.PLOTLYENV=window.PLOTLYENV || {};                                    if (document.getElementById(\"ce11c575-0d54-423c-bc74-c64c0deb9959\")) {                    Plotly.newPlot(                        \"ce11c575-0d54-423c-bc74-c64c0deb9959\",                        [{\"mode\":\"lines+markers\",\"name\":\"Document 0 predictions\",\"y\":[0.0007255796956335825,0.0008324099964613918,0.0009544603955606856,0.0018501644439730125,0.0016085136143120238,0.0018121857397908059,0.0018571931655664287,0.00306812537577672,0.0025408147630803235,0.002827378686128146,0.002423503002081606,0.003516874724699637,0.003875711567124629,0.004267247661060569,0.003341403663889242,0.0033143263091224284],\"type\":\"scatter\"},{\"showlegend\":false,\"x\":[1],\"y\":[0.0008324099964613918],\"type\":\"scatter\"},{\"mode\":\"lines+markers\",\"name\":\"Document 1 predictions\",\"y\":[0.0005237588602496901,0.0006025219670863224,0.0006476241389999915,0.00094308296786072,0.0011857541408151206,0.002116203959337426,0.0020554055721060394,0.0024209714996139553,0.00273849809655502,0.0037311576736724916,0.003642944344536936,0.0046143448690072475,0.004016613767320543,0.0038597143765466413,0.003459087075770917,0.0035445965112073097],\"type\":\"scatter\"},{\"showlegend\":false,\"x\":[1],\"y\":[0.0006025219670863224],\"type\":\"scatter\"}],                        {\"template\":{\"data\":{\"barpolar\":[{\"marker\":{\"line\":{\"color\":\"#E5ECF6\",\"width\":0.5},\"pattern\":{\"fillmode\":\"overlay\",\"size\":10,\"solidity\":0.2}},\"type\":\"barpolar\"}],\"bar\":[{\"error_x\":{\"color\":\"#2a3f5f\"},\"error_y\":{\"color\":\"#2a3f5f\"},\"marker\":{\"line\":{\"color\":\"#E5ECF6\",\"width\":0.5},\"pattern\":{\"fillmode\":\"overlay\",\"size\":10,\"solidity\":0.2}},\"type\":\"bar\"}],\"carpet\":[{\"aaxis\":{\"endlinecolor\":\"#2a3f5f\",\"gridcolor\":\"white\",\"linecolor\":\"white\",\"minorgridcolor\":\"white\",\"startlinecolor\":\"#2a3f5f\"},\"baxis\":{\"endlinecolor\":\"#2a3f5f\",\"gridcolor\":\"white\",\"linecolor\":\"white\",\"minorgridcolor\":\"white\",\"startlinecolor\":\"#2a3f5f\"},\"type\":\"carpet\"}],\"choropleth\":[{\"colorbar\":{\"outlinewidth\":0,\"ticks\":\"\"},\"type\":\"choropleth\"}],\"contourcarpet\":[{\"colorbar\":{\"outlinewidth\":0,\"ticks\":\"\"},\"type\":\"contourcarpet\"}],\"contour\":[{\"colorbar\":{\"outlinewidth\":0,\"ticks\":\"\"},\"colorscale\":[[0.0,\"#0d0887\"],[0.1111111111111111,\"#46039f\"],[0.2222222222222222,\"#7201a8\"],[0.3333333333333333,\"#9c179e\"],[0.4444444444444444,\"#bd3786\"],[0.5555555555555556,\"#d8576b\"],[0.6666666666666666,\"#ed7953\"],[0.7777777777777778,\"#fb9f3a\"],[0.8888888888888888,\"#fdca26\"],[1.0,\"#f0f921\"]],\"type\":\"contour\"}],\"heatmapgl\":[{\"colorbar\":{\"outlinewidth\":0,\"ticks\":\"\"},\"colorscale\":[[0.0,\"#0d0887\"],[0.1111111111111111,\"#46039f\"],[0.2222222222222222,\"#7201a8\"],[0.3333333333333333,\"#9c179e\"],[0.4444444444444444,\"#bd3786\"],[0.5555555555555556,\"#d8576b\"],[0.6666666666666666,\"#ed7953\"],[0.7777777777777778,\"#fb9f3a\"],[0.8888888888888888,\"#fdca26\"],[1.0,\"#f0f921\"]],\"type\":\"heatmapgl\"}],\"heatmap\":[{\"colorbar\":{\"outlinewidth\":0,\"ticks\":\"\"},\"colorscale\":[[0.0,\"#0d0887\"],[0.1111111111111111,\"#46039f\"],[0.2222222222222222,\"#7201a8\"],[0.3333333333333333,\"#9c179e\"],[0.4444444444444444,\"#bd3786\"],[0.5555555555555556,\"#d8576b\"],[0.6666666666666666,\"#ed7953\"],[0.7777777777777778,\"#fb9f3a\"],[0.8888888888888888,\"#fdca26\"],[1.0,\"#f0f921\"]],\"type\":\"heatmap\"}],\"histogram2dcontour\":[{\"colorbar\":{\"outlinewidth\":0,\"ticks\":\"\"},\"colorscale\":[[0.0,\"#0d0887\"],[0.1111111111111111,\"#46039f\"],[0.2222222222222222,\"#7201a8\"],[0.3333333333333333,\"#9c179e\"],[0.4444444444444444,\"#bd3786\"],[0.5555555555555556,\"#d8576b\"],[0.6666666666666666,\"#ed7953\"],[0.7777777777777778,\"#fb9f3a\"],[0.8888888888888888,\"#fdca26\"],[1.0,\"#f0f921\"]],\"type\":\"histogram2dcontour\"}],\"histogram2d\":[{\"colorbar\":{\"outlinewidth\":0,\"ticks\":\"\"},\"colorscale\":[[0.0,\"#0d0887\"],[0.1111111111111111,\"#46039f\"],[0.2222222222222222,\"#7201a8\"],[0.3333333333333333,\"#9c179e\"],[0.4444444444444444,\"#bd3786\"],[0.5555555555555556,\"#d8576b\"],[0.6666666666666666,\"#ed7953\"],[0.7777777777777778,\"#fb9f3a\"],[0.8888888888888888,\"#fdca26\"],[1.0,\"#f0f921\"]],\"type\":\"histogram2d\"}],\"histogram\":[{\"marker\":{\"pattern\":{\"fillmode\":\"overlay\",\"size\":10,\"solidity\":0.2}},\"type\":\"histogram\"}],\"mesh3d\":[{\"colorbar\":{\"outlinewidth\":0,\"ticks\":\"\"},\"type\":\"mesh3d\"}],\"parcoords\":[{\"line\":{\"colorbar\":{\"outlinewidth\":0,\"ticks\":\"\"}},\"type\":\"parcoords\"}],\"pie\":[{\"automargin\":true,\"type\":\"pie\"}],\"scatter3d\":[{\"line\":{\"colorbar\":{\"outlinewidth\":0,\"ticks\":\"\"}},\"marker\":{\"colorbar\":{\"outlinewidth\":0,\"ticks\":\"\"}},\"type\":\"scatter3d\"}],\"scattercarpet\":[{\"marker\":{\"colorbar\":{\"outlinewidth\":0,\"ticks\":\"\"}},\"type\":\"scattercarpet\"}],\"scattergeo\":[{\"marker\":{\"colorbar\":{\"outlinewidth\":0,\"ticks\":\"\"}},\"type\":\"scattergeo\"}],\"scattergl\":[{\"marker\":{\"colorbar\":{\"outlinewidth\":0,\"ticks\":\"\"}},\"type\":\"scattergl\"}],\"scattermapbox\":[{\"marker\":{\"colorbar\":{\"outlinewidth\":0,\"ticks\":\"\"}},\"type\":\"scattermapbox\"}],\"scatterpolargl\":[{\"marker\":{\"colorbar\":{\"outlinewidth\":0,\"ticks\":\"\"}},\"type\":\"scatterpolargl\"}],\"scatterpolar\":[{\"marker\":{\"colorbar\":{\"outlinewidth\":0,\"ticks\":\"\"}},\"type\":\"scatterpolar\"}],\"scatter\":[{\"marker\":{\"colorbar\":{\"outlinewidth\":0,\"ticks\":\"\"}},\"type\":\"scatter\"}],\"scatterternary\":[{\"marker\":{\"colorbar\":{\"outlinewidth\":0,\"ticks\":\"\"}},\"type\":\"scatterternary\"}],\"surface\":[{\"colorbar\":{\"outlinewidth\":0,\"ticks\":\"\"},\"colorscale\":[[0.0,\"#0d0887\"],[0.1111111111111111,\"#46039f\"],[0.2222222222222222,\"#7201a8\"],[0.3333333333333333,\"#9c179e\"],[0.4444444444444444,\"#bd3786\"],[0.5555555555555556,\"#d8576b\"],[0.6666666666666666,\"#ed7953\"],[0.7777777777777778,\"#fb9f3a\"],[0.8888888888888888,\"#fdca26\"],[1.0,\"#f0f921\"]],\"type\":\"surface\"}],\"table\":[{\"cells\":{\"fill\":{\"color\":\"#EBF0F8\"},\"line\":{\"color\":\"white\"}},\"header\":{\"fill\":{\"color\":\"#C8D4E3\"},\"line\":{\"color\":\"white\"}},\"type\":\"table\"}]},\"layout\":{\"annotationdefaults\":{\"arrowcolor\":\"#2a3f5f\",\"arrowhead\":0,\"arrowwidth\":1},\"autotypenumbers\":\"strict\",\"coloraxis\":{\"colorbar\":{\"outlinewidth\":0,\"ticks\":\"\"}},\"colorscale\":{\"diverging\":[[0,\"#8e0152\"],[0.1,\"#c51b7d\"],[0.2,\"#de77ae\"],[0.3,\"#f1b6da\"],[0.4,\"#fde0ef\"],[0.5,\"#f7f7f7\"],[0.6,\"#e6f5d0\"],[0.7,\"#b8e186\"],[0.8,\"#7fbc41\"],[0.9,\"#4d9221\"],[1,\"#276419\"]],\"sequential\":[[0.0,\"#0d0887\"],[0.1111111111111111,\"#46039f\"],[0.2222222222222222,\"#7201a8\"],[0.3333333333333333,\"#9c179e\"],[0.4444444444444444,\"#bd3786\"],[0.5555555555555556,\"#d8576b\"],[0.6666666666666666,\"#ed7953\"],[0.7777777777777778,\"#fb9f3a\"],[0.8888888888888888,\"#fdca26\"],[1.0,\"#f0f921\"]],\"sequentialminus\":[[0.0,\"#0d0887\"],[0.1111111111111111,\"#46039f\"],[0.2222222222222222,\"#7201a8\"],[0.3333333333333333,\"#9c179e\"],[0.4444444444444444,\"#bd3786\"],[0.5555555555555556,\"#d8576b\"],[0.6666666666666666,\"#ed7953\"],[0.7777777777777778,\"#fb9f3a\"],[0.8888888888888888,\"#fdca26\"],[1.0,\"#f0f921\"]]},\"colorway\":[\"#636efa\",\"#EF553B\",\"#00cc96\",\"#ab63fa\",\"#FFA15A\",\"#19d3f3\",\"#FF6692\",\"#B6E880\",\"#FF97FF\",\"#FECB52\"],\"font\":{\"color\":\"#2a3f5f\"},\"geo\":{\"bgcolor\":\"white\",\"lakecolor\":\"white\",\"landcolor\":\"#E5ECF6\",\"showlakes\":true,\"showland\":true,\"subunitcolor\":\"white\"},\"hoverlabel\":{\"align\":\"left\"},\"hovermode\":\"closest\",\"mapbox\":{\"style\":\"light\"},\"paper_bgcolor\":\"white\",\"plot_bgcolor\":\"#E5ECF6\",\"polar\":{\"angularaxis\":{\"gridcolor\":\"white\",\"linecolor\":\"white\",\"ticks\":\"\"},\"bgcolor\":\"#E5ECF6\",\"radialaxis\":{\"gridcolor\":\"white\",\"linecolor\":\"white\",\"ticks\":\"\"}},\"scene\":{\"xaxis\":{\"backgroundcolor\":\"#E5ECF6\",\"gridcolor\":\"white\",\"gridwidth\":2,\"linecolor\":\"white\",\"showbackground\":true,\"ticks\":\"\",\"zerolinecolor\":\"white\"},\"yaxis\":{\"backgroundcolor\":\"#E5ECF6\",\"gridcolor\":\"white\",\"gridwidth\":2,\"linecolor\":\"white\",\"showbackground\":true,\"ticks\":\"\",\"zerolinecolor\":\"white\"},\"zaxis\":{\"backgroundcolor\":\"#E5ECF6\",\"gridcolor\":\"white\",\"gridwidth\":2,\"linecolor\":\"white\",\"showbackground\":true,\"ticks\":\"\",\"zerolinecolor\":\"white\"}},\"shapedefaults\":{\"line\":{\"color\":\"#2a3f5f\"}},\"ternary\":{\"aaxis\":{\"gridcolor\":\"white\",\"linecolor\":\"white\",\"ticks\":\"\"},\"baxis\":{\"gridcolor\":\"white\",\"linecolor\":\"white\",\"ticks\":\"\"},\"bgcolor\":\"#E5ECF6\",\"caxis\":{\"gridcolor\":\"white\",\"linecolor\":\"white\",\"ticks\":\"\"}},\"title\":{\"x\":0.05},\"xaxis\":{\"automargin\":true,\"gridcolor\":\"white\",\"linecolor\":\"white\",\"ticks\":\"\",\"title\":{\"standoff\":15},\"zerolinecolor\":\"white\",\"zerolinewidth\":2},\"yaxis\":{\"automargin\":true,\"gridcolor\":\"white\",\"linecolor\":\"white\",\"ticks\":\"\",\"title\":{\"standoff\":15},\"zerolinecolor\":\"white\",\"zerolinewidth\":2}}},\"title\":{\"text\":\"Prediction variation for feature 'accommodates'\"},\"xaxis\":{\"showticklabels\":false,\"tickmode\":\"array\",\"ticktext\":[\"(-inf, 1.5000]\",\"(1.5000, 2.5000]\",\"(2.5000, 3.5000]\",\"(3.5000, 4.5000]\",\"(4.5000, 5.5000]\",\"(5.5000, 6.5000]\",\"(6.5000, 7.5000]\",\"(7.5000, 8.5000]\",\"(8.5000, 9.5000]\",\"(9.5000, 10.5000]\",\"(10.5000, 11.5000]\",\"(11.5000, 12.5000]\",\"(12.5000, 13.5000]\",\"(13.5000, 14.5000]\",\"(14.5000, 15.5000]\",\"(15.5000, +inf)\"],\"tickvals\":[0,1,2,3,4,5,6,7,8,9,10,11,12,13,14,15],\"title\":{\"text\":\"Bins\"}},\"yaxis\":{\"overlaying\":\"y2\",\"side\":\"left\",\"title\":{\"text\":\"Prediction\"}}},                        {\"responsive\": true}                    ).then(function(){\n",
       "                            \n",
       "var gd = document.getElementById('ce11c575-0d54-423c-bc74-c64c0deb9959');\n",
       "var x = new MutationObserver(function (mutations, observer) {{\n",
       "        var display = window.getComputedStyle(gd).display;\n",
       "        if (!display || display === 'none') {{\n",
       "            console.log([gd, 'removed!']);\n",
       "            Plotly.purge(gd);\n",
       "            observer.disconnect();\n",
       "        }}\n",
       "}});\n",
       "\n",
       "// Listen for the removal of the full notebook cells\n",
       "var notebookContainer = gd.closest('#notebook-container');\n",
       "if (notebookContainer) {{\n",
       "    x.observe(notebookContainer, {childList: true});\n",
       "}}\n",
       "\n",
       "// Listen for the clearing of the current output cell\n",
       "var outputEl = gd.closest('.output');\n",
       "if (outputEl) {{\n",
       "    x.observe(outputEl, {childList: true});\n",
       "}}\n",
       "\n",
       "                        })                };                });            </script>        </div>"
      ]
     },
     "metadata": {},
     "output_type": "display_data"
    },
    {
     "data": {
      "application/vnd.plotly.v1+json": {
       "config": {
        "linkText": "Export to plot.ly",
        "plotlyServerURL": "https://plot.ly",
        "showLink": false
       },
       "data": [
        {
         "mode": "lines+markers",
         "name": "Document 0 predictions",
         "type": "scatter",
         "y": [
          0.0007401970477809439,
          0.0007785650172642544,
          0.0008425604658384156,
          0.000760497852404951,
          0.0007305194341575838,
          0.0007216810434023113,
          0.0007463985045965682,
          0.0005821192065689207,
          0.0005641528753905778,
          0.0006481507311868473,
          0.0006541512133886318,
          0.0006572683351386832,
          0.0006606671559474808,
          0.0006535907310116773,
          0.0006504383755363552,
          0.0006418096190181632,
          0.0006411853386716349,
          0.000779781288529735,
          0.000792789650618575,
          0.0008385960611729804,
          0.0016477166220323358,
          0.0008254886436322995,
          0.0007706701502823154,
          0.0007674589965429579,
          0.0007599436697003359,
          0.0007040853583160089,
          0.000698406053069478,
          0.0006794936226779402,
          0.0006856078326873405,
          0.00069783713322491,
          0.0006834061025753346,
          0.0006668239323002201,
          0.000687674159416618,
          0.000691491021208579,
          0.0006930550657753276,
          0.0006954705657669091,
          0.0006976358079888723,
          0.0008324099964613918,
          0.0006831043041291007,
          0.000655722635157785,
          0.0006326580531907933,
          0.0005949302908703213,
          0.0005998528582036311,
          0.0005968773359918966,
          0.0006160849531353652,
          0.0008559146316555744,
          0.0006960912837234989,
          0.0006804092701335751,
          0.0006768331481998846,
          0.0005155890795769391,
          0.0005066152942780899,
          0.0005025037294152934,
          0.0005053529939622603,
          0.0005052860301553164,
          0.000509835862154473,
          0.0005120287005559998,
          0.0005143250938608457,
          0.000514960504148787,
          0.0005146024080893152,
          0.0005219875914981298,
          0.0005325582005617502,
          0.0005448449624487761,
          0.000542649578620269,
          0.0005431344406339189,
          0.000540614793451466,
          0.0005463323624759209,
          0.0005430561080153051,
          0.0004253781294785153,
          0.0005452978689206578,
          0.0005408766997050396,
          0.000541708002199881,
          0.0005064816100286418,
          0.0005180151180013137,
          0.0005201862654302669,
          0.0005456792218658801,
          0.000791471136875499,
          0.00016092289425151396,
          0.00039110657895635725,
          0.0003998279714889641,
          0.00039893319877792877,
          0.0003978841587124471,
          0.00039646220808409183,
          0.000404077353675536,
          0.0004132970971224559,
          0.0004260212838400612,
          0.00043631048636116887,
          0.00044227003406804855,
          0.00042302271088745513,
          0.0003864695986064426,
          0.0003846822690118934,
          0.00038135224314972405,
          0.00037570339531756147,
          0.0003755417770574532
         ]
        },
        {
         "showlegend": false,
         "type": "scatter",
         "x": [
          37
         ],
         "y": [
          0.0008324099964613918
         ]
        },
        {
         "mode": "lines+markers",
         "name": "Document 1 predictions",
         "type": "scatter",
         "y": [
          0.0009452629526319756,
          0.0009718835811619586,
          0.0009366718165076948,
          0.0010171827779476006,
          0.0011146179921129873,
          0.0011562069786467122,
          0.0011070079319469572,
          0.0006828411624272279,
          0.0006181780116857327,
          0.0005993106749510035,
          0.0006072872463046552,
          0.0005758052793051194,
          0.0005662095122086486,
          0.0005382662744121136,
          0.000533286122441301,
          0.0005177898475433595,
          0.000503454286382099,
          0.0005398140889837366,
          0.0005471189730200665,
          0.0005547926755326005,
          0.0006025219670863224,
          0.000526560089187389,
          0.0004985436083045913,
          0.0005004323701626179,
          0.0004993447759772396,
          0.0004913485669987283,
          0.0004892158076074127,
          0.00047870612501832444,
          0.0004880079879924226,
          0.000493921752034443,
          0.0004929261229263959,
          0.0005102780481066604,
          0.0005470598689171213,
          0.0005548547193497955,
          0.0005562484033944104,
          0.0005667404255823572,
          0.0005653730422486847,
          0.0006854238424152115,
          0.0005799666831789452,
          0.0005616545809088436,
          0.0005384537207389073,
          0.0005889914688341769,
          0.0005549767911250392,
          0.0005461037324212548,
          0.0005658969436370676,
          0.0006403147276965448,
          0.0006796849308368103,
          0.0006578598775983657,
          0.0006710240962699565,
          0.0004777234089377025,
          0.00046653835929388876,
          0.0004586460113986668,
          0.0004571306486158555,
          0.00045173263665132524,
          0.0004499050304676011,
          0.00045209786886912795,
          0.0004486419732461222,
          0.0004513954834624023,
          0.00045718853810283733,
          0.00044712751805375817,
          0.00043208763782898174,
          0.0004164543594273873,
          0.0004039114579037495,
          0.00038332635846893837,
          0.00038132287715564317,
          0.00038577622262403466,
          0.0003973898992577496,
          0.00041554536523102925,
          0.0007622515230250038,
          0.0007516567956820097,
          0.0007443196272554076,
          0.0006989562200936383,
          0.000768852897297112,
          0.0007605803974706227,
          0.0008577732449617237,
          0.0006762430691145127,
          0.0009242033382417247,
          0.0003838395896149649,
          0.00037701016399971365,
          0.0003652836852250374,
          0.00035618859121022695,
          0.0003451393413040904,
          0.00034557158752868133,
          0.0003456407405035833,
          0.00034353290013022786,
          0.00033605149138615786,
          0.00032986961997316655,
          0.000327624454255826,
          0.00033110293423810333,
          0.00034432326168420957,
          0.0003608565519339635,
          0.00037300658238859086,
          0.0003761995147426589
         ]
        },
        {
         "showlegend": false,
         "type": "scatter",
         "x": [
          20
         ],
         "y": [
          0.0006025219670863224
         ]
        }
       ],
       "layout": {
        "autosize": true,
        "template": {
         "data": {
          "bar": [
           {
            "error_x": {
             "color": "#2a3f5f"
            },
            "error_y": {
             "color": "#2a3f5f"
            },
            "marker": {
             "line": {
              "color": "#E5ECF6",
              "width": 0.5
             },
             "pattern": {
              "fillmode": "overlay",
              "size": 10,
              "solidity": 0.2
             }
            },
            "type": "bar"
           }
          ],
          "barpolar": [
           {
            "marker": {
             "line": {
              "color": "#E5ECF6",
              "width": 0.5
             },
             "pattern": {
              "fillmode": "overlay",
              "size": 10,
              "solidity": 0.2
             }
            },
            "type": "barpolar"
           }
          ],
          "carpet": [
           {
            "aaxis": {
             "endlinecolor": "#2a3f5f",
             "gridcolor": "white",
             "linecolor": "white",
             "minorgridcolor": "white",
             "startlinecolor": "#2a3f5f"
            },
            "baxis": {
             "endlinecolor": "#2a3f5f",
             "gridcolor": "white",
             "linecolor": "white",
             "minorgridcolor": "white",
             "startlinecolor": "#2a3f5f"
            },
            "type": "carpet"
           }
          ],
          "choropleth": [
           {
            "colorbar": {
             "outlinewidth": 0,
             "ticks": ""
            },
            "type": "choropleth"
           }
          ],
          "contour": [
           {
            "colorbar": {
             "outlinewidth": 0,
             "ticks": ""
            },
            "colorscale": [
             [
              0,
              "#0d0887"
             ],
             [
              0.1111111111111111,
              "#46039f"
             ],
             [
              0.2222222222222222,
              "#7201a8"
             ],
             [
              0.3333333333333333,
              "#9c179e"
             ],
             [
              0.4444444444444444,
              "#bd3786"
             ],
             [
              0.5555555555555556,
              "#d8576b"
             ],
             [
              0.6666666666666666,
              "#ed7953"
             ],
             [
              0.7777777777777778,
              "#fb9f3a"
             ],
             [
              0.8888888888888888,
              "#fdca26"
             ],
             [
              1,
              "#f0f921"
             ]
            ],
            "type": "contour"
           }
          ],
          "contourcarpet": [
           {
            "colorbar": {
             "outlinewidth": 0,
             "ticks": ""
            },
            "type": "contourcarpet"
           }
          ],
          "heatmap": [
           {
            "colorbar": {
             "outlinewidth": 0,
             "ticks": ""
            },
            "colorscale": [
             [
              0,
              "#0d0887"
             ],
             [
              0.1111111111111111,
              "#46039f"
             ],
             [
              0.2222222222222222,
              "#7201a8"
             ],
             [
              0.3333333333333333,
              "#9c179e"
             ],
             [
              0.4444444444444444,
              "#bd3786"
             ],
             [
              0.5555555555555556,
              "#d8576b"
             ],
             [
              0.6666666666666666,
              "#ed7953"
             ],
             [
              0.7777777777777778,
              "#fb9f3a"
             ],
             [
              0.8888888888888888,
              "#fdca26"
             ],
             [
              1,
              "#f0f921"
             ]
            ],
            "type": "heatmap"
           }
          ],
          "heatmapgl": [
           {
            "colorbar": {
             "outlinewidth": 0,
             "ticks": ""
            },
            "colorscale": [
             [
              0,
              "#0d0887"
             ],
             [
              0.1111111111111111,
              "#46039f"
             ],
             [
              0.2222222222222222,
              "#7201a8"
             ],
             [
              0.3333333333333333,
              "#9c179e"
             ],
             [
              0.4444444444444444,
              "#bd3786"
             ],
             [
              0.5555555555555556,
              "#d8576b"
             ],
             [
              0.6666666666666666,
              "#ed7953"
             ],
             [
              0.7777777777777778,
              "#fb9f3a"
             ],
             [
              0.8888888888888888,
              "#fdca26"
             ],
             [
              1,
              "#f0f921"
             ]
            ],
            "type": "heatmapgl"
           }
          ],
          "histogram": [
           {
            "marker": {
             "pattern": {
              "fillmode": "overlay",
              "size": 10,
              "solidity": 0.2
             }
            },
            "type": "histogram"
           }
          ],
          "histogram2d": [
           {
            "colorbar": {
             "outlinewidth": 0,
             "ticks": ""
            },
            "colorscale": [
             [
              0,
              "#0d0887"
             ],
             [
              0.1111111111111111,
              "#46039f"
             ],
             [
              0.2222222222222222,
              "#7201a8"
             ],
             [
              0.3333333333333333,
              "#9c179e"
             ],
             [
              0.4444444444444444,
              "#bd3786"
             ],
             [
              0.5555555555555556,
              "#d8576b"
             ],
             [
              0.6666666666666666,
              "#ed7953"
             ],
             [
              0.7777777777777778,
              "#fb9f3a"
             ],
             [
              0.8888888888888888,
              "#fdca26"
             ],
             [
              1,
              "#f0f921"
             ]
            ],
            "type": "histogram2d"
           }
          ],
          "histogram2dcontour": [
           {
            "colorbar": {
             "outlinewidth": 0,
             "ticks": ""
            },
            "colorscale": [
             [
              0,
              "#0d0887"
             ],
             [
              0.1111111111111111,
              "#46039f"
             ],
             [
              0.2222222222222222,
              "#7201a8"
             ],
             [
              0.3333333333333333,
              "#9c179e"
             ],
             [
              0.4444444444444444,
              "#bd3786"
             ],
             [
              0.5555555555555556,
              "#d8576b"
             ],
             [
              0.6666666666666666,
              "#ed7953"
             ],
             [
              0.7777777777777778,
              "#fb9f3a"
             ],
             [
              0.8888888888888888,
              "#fdca26"
             ],
             [
              1,
              "#f0f921"
             ]
            ],
            "type": "histogram2dcontour"
           }
          ],
          "mesh3d": [
           {
            "colorbar": {
             "outlinewidth": 0,
             "ticks": ""
            },
            "type": "mesh3d"
           }
          ],
          "parcoords": [
           {
            "line": {
             "colorbar": {
              "outlinewidth": 0,
              "ticks": ""
             }
            },
            "type": "parcoords"
           }
          ],
          "pie": [
           {
            "automargin": true,
            "type": "pie"
           }
          ],
          "scatter": [
           {
            "marker": {
             "colorbar": {
              "outlinewidth": 0,
              "ticks": ""
             }
            },
            "type": "scatter"
           }
          ],
          "scatter3d": [
           {
            "line": {
             "colorbar": {
              "outlinewidth": 0,
              "ticks": ""
             }
            },
            "marker": {
             "colorbar": {
              "outlinewidth": 0,
              "ticks": ""
             }
            },
            "type": "scatter3d"
           }
          ],
          "scattercarpet": [
           {
            "marker": {
             "colorbar": {
              "outlinewidth": 0,
              "ticks": ""
             }
            },
            "type": "scattercarpet"
           }
          ],
          "scattergeo": [
           {
            "marker": {
             "colorbar": {
              "outlinewidth": 0,
              "ticks": ""
             }
            },
            "type": "scattergeo"
           }
          ],
          "scattergl": [
           {
            "marker": {
             "colorbar": {
              "outlinewidth": 0,
              "ticks": ""
             }
            },
            "type": "scattergl"
           }
          ],
          "scattermapbox": [
           {
            "marker": {
             "colorbar": {
              "outlinewidth": 0,
              "ticks": ""
             }
            },
            "type": "scattermapbox"
           }
          ],
          "scatterpolar": [
           {
            "marker": {
             "colorbar": {
              "outlinewidth": 0,
              "ticks": ""
             }
            },
            "type": "scatterpolar"
           }
          ],
          "scatterpolargl": [
           {
            "marker": {
             "colorbar": {
              "outlinewidth": 0,
              "ticks": ""
             }
            },
            "type": "scatterpolargl"
           }
          ],
          "scatterternary": [
           {
            "marker": {
             "colorbar": {
              "outlinewidth": 0,
              "ticks": ""
             }
            },
            "type": "scatterternary"
           }
          ],
          "surface": [
           {
            "colorbar": {
             "outlinewidth": 0,
             "ticks": ""
            },
            "colorscale": [
             [
              0,
              "#0d0887"
             ],
             [
              0.1111111111111111,
              "#46039f"
             ],
             [
              0.2222222222222222,
              "#7201a8"
             ],
             [
              0.3333333333333333,
              "#9c179e"
             ],
             [
              0.4444444444444444,
              "#bd3786"
             ],
             [
              0.5555555555555556,
              "#d8576b"
             ],
             [
              0.6666666666666666,
              "#ed7953"
             ],
             [
              0.7777777777777778,
              "#fb9f3a"
             ],
             [
              0.8888888888888888,
              "#fdca26"
             ],
             [
              1,
              "#f0f921"
             ]
            ],
            "type": "surface"
           }
          ],
          "table": [
           {
            "cells": {
             "fill": {
              "color": "#EBF0F8"
             },
             "line": {
              "color": "white"
             }
            },
            "header": {
             "fill": {
              "color": "#C8D4E3"
             },
             "line": {
              "color": "white"
             }
            },
            "type": "table"
           }
          ]
         },
         "layout": {
          "annotationdefaults": {
           "arrowcolor": "#2a3f5f",
           "arrowhead": 0,
           "arrowwidth": 1
          },
          "autotypenumbers": "strict",
          "coloraxis": {
           "colorbar": {
            "outlinewidth": 0,
            "ticks": ""
           }
          },
          "colorscale": {
           "diverging": [
            [
             0,
             "#8e0152"
            ],
            [
             0.1,
             "#c51b7d"
            ],
            [
             0.2,
             "#de77ae"
            ],
            [
             0.3,
             "#f1b6da"
            ],
            [
             0.4,
             "#fde0ef"
            ],
            [
             0.5,
             "#f7f7f7"
            ],
            [
             0.6,
             "#e6f5d0"
            ],
            [
             0.7,
             "#b8e186"
            ],
            [
             0.8,
             "#7fbc41"
            ],
            [
             0.9,
             "#4d9221"
            ],
            [
             1,
             "#276419"
            ]
           ],
           "sequential": [
            [
             0,
             "#0d0887"
            ],
            [
             0.1111111111111111,
             "#46039f"
            ],
            [
             0.2222222222222222,
             "#7201a8"
            ],
            [
             0.3333333333333333,
             "#9c179e"
            ],
            [
             0.4444444444444444,
             "#bd3786"
            ],
            [
             0.5555555555555556,
             "#d8576b"
            ],
            [
             0.6666666666666666,
             "#ed7953"
            ],
            [
             0.7777777777777778,
             "#fb9f3a"
            ],
            [
             0.8888888888888888,
             "#fdca26"
            ],
            [
             1,
             "#f0f921"
            ]
           ],
           "sequentialminus": [
            [
             0,
             "#0d0887"
            ],
            [
             0.1111111111111111,
             "#46039f"
            ],
            [
             0.2222222222222222,
             "#7201a8"
            ],
            [
             0.3333333333333333,
             "#9c179e"
            ],
            [
             0.4444444444444444,
             "#bd3786"
            ],
            [
             0.5555555555555556,
             "#d8576b"
            ],
            [
             0.6666666666666666,
             "#ed7953"
            ],
            [
             0.7777777777777778,
             "#fb9f3a"
            ],
            [
             0.8888888888888888,
             "#fdca26"
            ],
            [
             1,
             "#f0f921"
            ]
           ]
          },
          "colorway": [
           "#636efa",
           "#EF553B",
           "#00cc96",
           "#ab63fa",
           "#FFA15A",
           "#19d3f3",
           "#FF6692",
           "#B6E880",
           "#FF97FF",
           "#FECB52"
          ],
          "font": {
           "color": "#2a3f5f"
          },
          "geo": {
           "bgcolor": "white",
           "lakecolor": "white",
           "landcolor": "#E5ECF6",
           "showlakes": true,
           "showland": true,
           "subunitcolor": "white"
          },
          "hoverlabel": {
           "align": "left"
          },
          "hovermode": "closest",
          "mapbox": {
           "style": "light"
          },
          "paper_bgcolor": "white",
          "plot_bgcolor": "#E5ECF6",
          "polar": {
           "angularaxis": {
            "gridcolor": "white",
            "linecolor": "white",
            "ticks": ""
           },
           "bgcolor": "#E5ECF6",
           "radialaxis": {
            "gridcolor": "white",
            "linecolor": "white",
            "ticks": ""
           }
          },
          "scene": {
           "xaxis": {
            "backgroundcolor": "#E5ECF6",
            "gridcolor": "white",
            "gridwidth": 2,
            "linecolor": "white",
            "showbackground": true,
            "ticks": "",
            "zerolinecolor": "white"
           },
           "yaxis": {
            "backgroundcolor": "#E5ECF6",
            "gridcolor": "white",
            "gridwidth": 2,
            "linecolor": "white",
            "showbackground": true,
            "ticks": "",
            "zerolinecolor": "white"
           },
           "zaxis": {
            "backgroundcolor": "#E5ECF6",
            "gridcolor": "white",
            "gridwidth": 2,
            "linecolor": "white",
            "showbackground": true,
            "ticks": "",
            "zerolinecolor": "white"
           }
          },
          "shapedefaults": {
           "line": {
            "color": "#2a3f5f"
           }
          },
          "ternary": {
           "aaxis": {
            "gridcolor": "white",
            "linecolor": "white",
            "ticks": ""
           },
           "baxis": {
            "gridcolor": "white",
            "linecolor": "white",
            "ticks": ""
           },
           "bgcolor": "#E5ECF6",
           "caxis": {
            "gridcolor": "white",
            "linecolor": "white",
            "ticks": ""
           }
          },
          "title": {
           "x": 0.05
          },
          "xaxis": {
           "automargin": true,
           "gridcolor": "white",
           "linecolor": "white",
           "ticks": "",
           "title": {
            "standoff": 15
           },
           "zerolinecolor": "white",
           "zerolinewidth": 2
          },
          "yaxis": {
           "automargin": true,
           "gridcolor": "white",
           "linecolor": "white",
           "ticks": "",
           "title": {
            "standoff": 15
           },
           "zerolinecolor": "white",
           "zerolinewidth": 2
          }
         }
        },
        "title": {
         "text": "Prediction variation for feature 'neighbourhood_cleansed'"
        },
        "xaxis": {
         "autorange": true,
         "range": [
          -5.473087818696884,
          97.47308781869688
         ],
         "showticklabels": false,
         "tickmode": "array",
         "ticktext": [
          "(-inf, 1.5000]",
          "(1.5000, 3.5000]",
          "(3.5000, 4.5000]",
          "(4.5000, 5.5000]",
          "(5.5000, 6.5000]",
          "(6.5000, 7.5000]",
          "(7.5000, 8.5000]",
          "(8.5000, 9.5000]",
          "(9.5000, 11.5000]",
          "(11.5000, 12.5000]",
          "(12.5000, 13.5000]",
          "(13.5000, 14.5000]",
          "(14.5000, 21.5000]",
          "(21.5000, 22.5000]",
          "(22.5000, 23.5000]",
          "(23.5000, 25.5000]",
          "(25.5000, 26.5000]",
          "(26.5000, 27.5000]",
          "(27.5000, 30.5000]",
          "(30.5000, 33.5000]",
          "(33.5000, 34.5000]",
          "(34.5000, 35.5000]",
          "(35.5000, 36.5000]",
          "(36.5000, 41.5000]",
          "(41.5000, 42.5000]",
          "(42.5000, 44.5000]",
          "(44.5000, 45.5000]",
          "(45.5000, 46.5000]",
          "(46.5000, 47.5000]",
          "(47.5000, 50.5000]",
          "(50.5000, 56.5000]",
          "(56.5000, 57.5000]",
          "(57.5000, 58.5000]",
          "(58.5000, 60.5000]",
          "(60.5000, 61.5000]",
          "(61.5000, 62.5000]",
          "(62.5000, 63.5000]",
          "(63.5000, 64.5000]",
          "(64.5000, 65.5000]",
          "(65.5000, 66.5000]",
          "(66.5000, 68.0000]",
          "(68.0000, 70.5000]",
          "(70.5000, 71.5000]",
          "(71.5000, 72.5000]",
          "(72.5000, 73.5000]",
          "(73.5000, 74.5000]",
          "(74.5000, 75.5000]",
          "(75.5000, 76.5000]",
          "(76.5000, 77.5000]",
          "(77.5000, 78.5000]",
          "(78.5000, 83.5000]",
          "(83.5000, 84.5000]",
          "(84.5000, 88.5000]",
          "(88.5000, 89.5000]",
          "(89.5000, 104.5000]",
          "(104.5000, 107.5000]",
          "(107.5000, 108.5000]",
          "(108.5000, 110.0000]",
          "(110.0000, 111.5000]",
          "(111.5000, 112.5000]",
          "(112.5000, 113.5000]",
          "(113.5000, 115.5000]",
          "(115.5000, 116.5000]",
          "(116.5000, 117.5000]",
          "(117.5000, 118.5000]",
          "(118.5000, 119.5000]",
          "(119.5000, 120.5000]",
          "(120.5000, 121.5000]",
          "(121.5000, 122.5000]",
          "(122.5000, 123.5000]",
          "(123.5000, 124.5000]",
          "(124.5000, 125.5000]",
          "(125.5000, 126.5000]",
          "(126.5000, 127.5000]",
          "(127.5000, 128.5000]",
          "(128.5000, 129.5000]",
          "(129.5000, 130.5000]",
          "(130.5000, 131.5000]",
          "(131.5000, 132.5000]",
          "(132.5000, 133.5000]",
          "(133.5000, 134.5000]",
          "(134.5000, 135.5000]",
          "(135.5000, 138.5000]",
          "(138.5000, 139.5000]",
          "(139.5000, 140.5000]",
          "(140.5000, 143.5000]",
          "(143.5000, 144.5000]",
          "(144.5000, 145.5000]",
          "(145.5000, 146.5000]",
          "(146.5000, 148.5000]",
          "(148.5000, 149.5000]",
          "(149.5000, 150.5000]",
          "(150.5000, +inf)"
         ],
         "tickvals": [
          0,
          1,
          2,
          3,
          4,
          5,
          6,
          7,
          8,
          9,
          10,
          11,
          12,
          13,
          14,
          15,
          16,
          17,
          18,
          19,
          20,
          21,
          22,
          23,
          24,
          25,
          26,
          27,
          28,
          29,
          30,
          31,
          32,
          33,
          34,
          35,
          36,
          37,
          38,
          39,
          40,
          41,
          42,
          43,
          44,
          45,
          46,
          47,
          48,
          49,
          50,
          51,
          52,
          53,
          54,
          55,
          56,
          57,
          58,
          59,
          60,
          61,
          62,
          63,
          64,
          65,
          66,
          67,
          68,
          69,
          70,
          71,
          72,
          73,
          74,
          75,
          76,
          77,
          78,
          79,
          80,
          81,
          82,
          83,
          84,
          85,
          86,
          87,
          88,
          89,
          90,
          91,
          92
         ],
         "title": {
          "text": "Bins"
         },
         "type": "linear"
        },
        "yaxis": {
         "autorange": true,
         "overlaying": "y2",
         "range": [
          3.8226324483193715e-05,
          0.001770413191800656
         ],
         "side": "left",
         "title": {
          "text": "Prediction"
         },
         "type": "linear"
        }
       }
      },
      "image/png": "[encoded data removed]",
      "text/html": [
       "<div>                            <div id=\"62192431-e42e-4158-85e3-291b6a5f8613\" class=\"plotly-graph-div\" style=\"height:525px; width:100%;\"></div>            <script type=\"text/javascript\">                require([\"plotly\"], function(Plotly) {                    window.PLOTLYENV=window.PLOTLYENV || {};                                    if (document.getElementById(\"62192431-e42e-4158-85e3-291b6a5f8613\")) {                    Plotly.newPlot(                        \"62192431-e42e-4158-85e3-291b6a5f8613\",                        [{\"mode\":\"lines+markers\",\"name\":\"Document 0 predictions\",\"y\":[0.0007401970477809439,0.0007785650172642544,0.0008425604658384156,0.000760497852404951,0.0007305194341575838,0.0007216810434023113,0.0007463985045965682,0.0005821192065689207,0.0005641528753905778,0.0006481507311868473,0.0006541512133886318,0.0006572683351386832,0.0006606671559474808,0.0006535907310116773,0.0006504383755363552,0.0006418096190181632,0.0006411853386716349,0.000779781288529735,0.000792789650618575,0.0008385960611729804,0.0016477166220323358,0.0008254886436322995,0.0007706701502823154,0.0007674589965429579,0.0007599436697003359,0.0007040853583160089,0.000698406053069478,0.0006794936226779402,0.0006856078326873405,0.00069783713322491,0.0006834061025753346,0.0006668239323002201,0.000687674159416618,0.000691491021208579,0.0006930550657753276,0.0006954705657669091,0.0006976358079888723,0.0008324099964613918,0.0006831043041291007,0.000655722635157785,0.0006326580531907933,0.0005949302908703213,0.0005998528582036311,0.0005968773359918966,0.0006160849531353652,0.0008559146316555744,0.0006960912837234989,0.0006804092701335751,0.0006768331481998846,0.0005155890795769391,0.0005066152942780899,0.0005025037294152934,0.0005053529939622603,0.0005052860301553164,0.000509835862154473,0.0005120287005559998,0.0005143250938608457,0.000514960504148787,0.0005146024080893152,0.0005219875914981298,0.0005325582005617502,0.0005448449624487761,0.000542649578620269,0.0005431344406339189,0.000540614793451466,0.0005463323624759209,0.0005430561080153051,0.0004253781294785153,0.0005452978689206578,0.0005408766997050396,0.000541708002199881,0.0005064816100286418,0.0005180151180013137,0.0005201862654302669,0.0005456792218658801,0.000791471136875499,0.00016092289425151396,0.00039110657895635725,0.0003998279714889641,0.00039893319877792877,0.0003978841587124471,0.00039646220808409183,0.000404077353675536,0.0004132970971224559,0.0004260212838400612,0.00043631048636116887,0.00044227003406804855,0.00042302271088745513,0.0003864695986064426,0.0003846822690118934,0.00038135224314972405,0.00037570339531756147,0.0003755417770574532],\"type\":\"scatter\"},{\"showlegend\":false,\"x\":[37],\"y\":[0.0008324099964613918],\"type\":\"scatter\"},{\"mode\":\"lines+markers\",\"name\":\"Document 1 predictions\",\"y\":[0.0009452629526319756,0.0009718835811619586,0.0009366718165076948,0.0010171827779476006,0.0011146179921129873,0.0011562069786467122,0.0011070079319469572,0.0006828411624272279,0.0006181780116857327,0.0005993106749510035,0.0006072872463046552,0.0005758052793051194,0.0005662095122086486,0.0005382662744121136,0.000533286122441301,0.0005177898475433595,0.000503454286382099,0.0005398140889837366,0.0005471189730200665,0.0005547926755326005,0.0006025219670863224,0.000526560089187389,0.0004985436083045913,0.0005004323701626179,0.0004993447759772396,0.0004913485669987283,0.0004892158076074127,0.00047870612501832444,0.0004880079879924226,0.000493921752034443,0.0004929261229263959,0.0005102780481066604,0.0005470598689171213,0.0005548547193497955,0.0005562484033944104,0.0005667404255823572,0.0005653730422486847,0.0006854238424152115,0.0005799666831789452,0.0005616545809088436,0.0005384537207389073,0.0005889914688341769,0.0005549767911250392,0.0005461037324212548,0.0005658969436370676,0.0006403147276965448,0.0006796849308368103,0.0006578598775983657,0.0006710240962699565,0.0004777234089377025,0.00046653835929388876,0.0004586460113986668,0.0004571306486158555,0.00045173263665132524,0.0004499050304676011,0.00045209786886912795,0.0004486419732461222,0.0004513954834624023,0.00045718853810283733,0.00044712751805375817,0.00043208763782898174,0.0004164543594273873,0.0004039114579037495,0.00038332635846893837,0.00038132287715564317,0.00038577622262403466,0.0003973898992577496,0.00041554536523102925,0.0007622515230250038,0.0007516567956820097,0.0007443196272554076,0.0006989562200936383,0.000768852897297112,0.0007605803974706227,0.0008577732449617237,0.0006762430691145127,0.0009242033382417247,0.0003838395896149649,0.00037701016399971365,0.0003652836852250374,0.00035618859121022695,0.0003451393413040904,0.00034557158752868133,0.0003456407405035833,0.00034353290013022786,0.00033605149138615786,0.00032986961997316655,0.000327624454255826,0.00033110293423810333,0.00034432326168420957,0.0003608565519339635,0.00037300658238859086,0.0003761995147426589],\"type\":\"scatter\"},{\"showlegend\":false,\"x\":[20],\"y\":[0.0006025219670863224],\"type\":\"scatter\"}],                        {\"template\":{\"data\":{\"barpolar\":[{\"marker\":{\"line\":{\"color\":\"#E5ECF6\",\"width\":0.5},\"pattern\":{\"fillmode\":\"overlay\",\"size\":10,\"solidity\":0.2}},\"type\":\"barpolar\"}],\"bar\":[{\"error_x\":{\"color\":\"#2a3f5f\"},\"error_y\":{\"color\":\"#2a3f5f\"},\"marker\":{\"line\":{\"color\":\"#E5ECF6\",\"width\":0.5},\"pattern\":{\"fillmode\":\"overlay\",\"size\":10,\"solidity\":0.2}},\"type\":\"bar\"}],\"carpet\":[{\"aaxis\":{\"endlinecolor\":\"#2a3f5f\",\"gridcolor\":\"white\",\"linecolor\":\"white\",\"minorgridcolor\":\"white\",\"startlinecolor\":\"#2a3f5f\"},\"baxis\":{\"endlinecolor\":\"#2a3f5f\",\"gridcolor\":\"white\",\"linecolor\":\"white\",\"minorgridcolor\":\"white\",\"startlinecolor\":\"#2a3f5f\"},\"type\":\"carpet\"}],\"choropleth\":[{\"colorbar\":{\"outlinewidth\":0,\"ticks\":\"\"},\"type\":\"choropleth\"}],\"contourcarpet\":[{\"colorbar\":{\"outlinewidth\":0,\"ticks\":\"\"},\"type\":\"contourcarpet\"}],\"contour\":[{\"colorbar\":{\"outlinewidth\":0,\"ticks\":\"\"},\"colorscale\":[[0.0,\"#0d0887\"],[0.1111111111111111,\"#46039f\"],[0.2222222222222222,\"#7201a8\"],[0.3333333333333333,\"#9c179e\"],[0.4444444444444444,\"#bd3786\"],[0.5555555555555556,\"#d8576b\"],[0.6666666666666666,\"#ed7953\"],[0.7777777777777778,\"#fb9f3a\"],[0.8888888888888888,\"#fdca26\"],[1.0,\"#f0f921\"]],\"type\":\"contour\"}],\"heatmapgl\":[{\"colorbar\":{\"outlinewidth\":0,\"ticks\":\"\"},\"colorscale\":[[0.0,\"#0d0887\"],[0.1111111111111111,\"#46039f\"],[0.2222222222222222,\"#7201a8\"],[0.3333333333333333,\"#9c179e\"],[0.4444444444444444,\"#bd3786\"],[0.5555555555555556,\"#d8576b\"],[0.6666666666666666,\"#ed7953\"],[0.7777777777777778,\"#fb9f3a\"],[0.8888888888888888,\"#fdca26\"],[1.0,\"#f0f921\"]],\"type\":\"heatmapgl\"}],\"heatmap\":[{\"colorbar\":{\"outlinewidth\":0,\"ticks\":\"\"},\"colorscale\":[[0.0,\"#0d0887\"],[0.1111111111111111,\"#46039f\"],[0.2222222222222222,\"#7201a8\"],[0.3333333333333333,\"#9c179e\"],[0.4444444444444444,\"#bd3786\"],[0.5555555555555556,\"#d8576b\"],[0.6666666666666666,\"#ed7953\"],[0.7777777777777778,\"#fb9f3a\"],[0.8888888888888888,\"#fdca26\"],[1.0,\"#f0f921\"]],\"type\":\"heatmap\"}],\"histogram2dcontour\":[{\"colorbar\":{\"outlinewidth\":0,\"ticks\":\"\"},\"colorscale\":[[0.0,\"#0d0887\"],[0.1111111111111111,\"#46039f\"],[0.2222222222222222,\"#7201a8\"],[0.3333333333333333,\"#9c179e\"],[0.4444444444444444,\"#bd3786\"],[0.5555555555555556,\"#d8576b\"],[0.6666666666666666,\"#ed7953\"],[0.7777777777777778,\"#fb9f3a\"],[0.8888888888888888,\"#fdca26\"],[1.0,\"#f0f921\"]],\"type\":\"histogram2dcontour\"}],\"histogram2d\":[{\"colorbar\":{\"outlinewidth\":0,\"ticks\":\"\"},\"colorscale\":[[0.0,\"#0d0887\"],[0.1111111111111111,\"#46039f\"],[0.2222222222222222,\"#7201a8\"],[0.3333333333333333,\"#9c179e\"],[0.4444444444444444,\"#bd3786\"],[0.5555555555555556,\"#d8576b\"],[0.6666666666666666,\"#ed7953\"],[0.7777777777777778,\"#fb9f3a\"],[0.8888888888888888,\"#fdca26\"],[1.0,\"#f0f921\"]],\"type\":\"histogram2d\"}],\"histogram\":[{\"marker\":{\"pattern\":{\"fillmode\":\"overlay\",\"size\":10,\"solidity\":0.2}},\"type\":\"histogram\"}],\"mesh3d\":[{\"colorbar\":{\"outlinewidth\":0,\"ticks\":\"\"},\"type\":\"mesh3d\"}],\"parcoords\":[{\"line\":{\"colorbar\":{\"outlinewidth\":0,\"ticks\":\"\"}},\"type\":\"parcoords\"}],\"pie\":[{\"automargin\":true,\"type\":\"pie\"}],\"scatter3d\":[{\"line\":{\"colorbar\":{\"outlinewidth\":0,\"ticks\":\"\"}},\"marker\":{\"colorbar\":{\"outlinewidth\":0,\"ticks\":\"\"}},\"type\":\"scatter3d\"}],\"scattercarpet\":[{\"marker\":{\"colorbar\":{\"outlinewidth\":0,\"ticks\":\"\"}},\"type\":\"scattercarpet\"}],\"scattergeo\":[{\"marker\":{\"colorbar\":{\"outlinewidth\":0,\"ticks\":\"\"}},\"type\":\"scattergeo\"}],\"scattergl\":[{\"marker\":{\"colorbar\":{\"outlinewidth\":0,\"ticks\":\"\"}},\"type\":\"scattergl\"}],\"scattermapbox\":[{\"marker\":{\"colorbar\":{\"outlinewidth\":0,\"ticks\":\"\"}},\"type\":\"scattermapbox\"}],\"scatterpolargl\":[{\"marker\":{\"colorbar\":{\"outlinewidth\":0,\"ticks\":\"\"}},\"type\":\"scatterpolargl\"}],\"scatterpolar\":[{\"marker\":{\"colorbar\":{\"outlinewidth\":0,\"ticks\":\"\"}},\"type\":\"scatterpolar\"}],\"scatter\":[{\"marker\":{\"colorbar\":{\"outlinewidth\":0,\"ticks\":\"\"}},\"type\":\"scatter\"}],\"scatterternary\":[{\"marker\":{\"colorbar\":{\"outlinewidth\":0,\"ticks\":\"\"}},\"type\":\"scatterternary\"}],\"surface\":[{\"colorbar\":{\"outlinewidth\":0,\"ticks\":\"\"},\"colorscale\":[[0.0,\"#0d0887\"],[0.1111111111111111,\"#46039f\"],[0.2222222222222222,\"#7201a8\"],[0.3333333333333333,\"#9c179e\"],[0.4444444444444444,\"#bd3786\"],[0.5555555555555556,\"#d8576b\"],[0.6666666666666666,\"#ed7953\"],[0.7777777777777778,\"#fb9f3a\"],[0.8888888888888888,\"#fdca26\"],[1.0,\"#f0f921\"]],\"type\":\"surface\"}],\"table\":[{\"cells\":{\"fill\":{\"color\":\"#EBF0F8\"},\"line\":{\"color\":\"white\"}},\"header\":{\"fill\":{\"color\":\"#C8D4E3\"},\"line\":{\"color\":\"white\"}},\"type\":\"table\"}]},\"layout\":{\"annotationdefaults\":{\"arrowcolor\":\"#2a3f5f\",\"arrowhead\":0,\"arrowwidth\":1},\"autotypenumbers\":\"strict\",\"coloraxis\":{\"colorbar\":{\"outlinewidth\":0,\"ticks\":\"\"}},\"colorscale\":{\"diverging\":[[0,\"#8e0152\"],[0.1,\"#c51b7d\"],[0.2,\"#de77ae\"],[0.3,\"#f1b6da\"],[0.4,\"#fde0ef\"],[0.5,\"#f7f7f7\"],[0.6,\"#e6f5d0\"],[0.7,\"#b8e186\"],[0.8,\"#7fbc41\"],[0.9,\"#4d9221\"],[1,\"#276419\"]],\"sequential\":[[0.0,\"#0d0887\"],[0.1111111111111111,\"#46039f\"],[0.2222222222222222,\"#7201a8\"],[0.3333333333333333,\"#9c179e\"],[0.4444444444444444,\"#bd3786\"],[0.5555555555555556,\"#d8576b\"],[0.6666666666666666,\"#ed7953\"],[0.7777777777777778,\"#fb9f3a\"],[0.8888888888888888,\"#fdca26\"],[1.0,\"#f0f921\"]],\"sequentialminus\":[[0.0,\"#0d0887\"],[0.1111111111111111,\"#46039f\"],[0.2222222222222222,\"#7201a8\"],[0.3333333333333333,\"#9c179e\"],[0.4444444444444444,\"#bd3786\"],[0.5555555555555556,\"#d8576b\"],[0.6666666666666666,\"#ed7953\"],[0.7777777777777778,\"#fb9f3a\"],[0.8888888888888888,\"#fdca26\"],[1.0,\"#f0f921\"]]},\"colorway\":[\"#636efa\",\"#EF553B\",\"#00cc96\",\"#ab63fa\",\"#FFA15A\",\"#19d3f3\",\"#FF6692\",\"#B6E880\",\"#FF97FF\",\"#FECB52\"],\"font\":{\"color\":\"#2a3f5f\"},\"geo\":{\"bgcolor\":\"white\",\"lakecolor\":\"white\",\"landcolor\":\"#E5ECF6\",\"showlakes\":true,\"showland\":true,\"subunitcolor\":\"white\"},\"hoverlabel\":{\"align\":\"left\"},\"hovermode\":\"closest\",\"mapbox\":{\"style\":\"light\"},\"paper_bgcolor\":\"white\",\"plot_bgcolor\":\"#E5ECF6\",\"polar\":{\"angularaxis\":{\"gridcolor\":\"white\",\"linecolor\":\"white\",\"ticks\":\"\"},\"bgcolor\":\"#E5ECF6\",\"radialaxis\":{\"gridcolor\":\"white\",\"linecolor\":\"white\",\"ticks\":\"\"}},\"scene\":{\"xaxis\":{\"backgroundcolor\":\"#E5ECF6\",\"gridcolor\":\"white\",\"gridwidth\":2,\"linecolor\":\"white\",\"showbackground\":true,\"ticks\":\"\",\"zerolinecolor\":\"white\"},\"yaxis\":{\"backgroundcolor\":\"#E5ECF6\",\"gridcolor\":\"white\",\"gridwidth\":2,\"linecolor\":\"white\",\"showbackground\":true,\"ticks\":\"\",\"zerolinecolor\":\"white\"},\"zaxis\":{\"backgroundcolor\":\"#E5ECF6\",\"gridcolor\":\"white\",\"gridwidth\":2,\"linecolor\":\"white\",\"showbackground\":true,\"ticks\":\"\",\"zerolinecolor\":\"white\"}},\"shapedefaults\":{\"line\":{\"color\":\"#2a3f5f\"}},\"ternary\":{\"aaxis\":{\"gridcolor\":\"white\",\"linecolor\":\"white\",\"ticks\":\"\"},\"baxis\":{\"gridcolor\":\"white\",\"linecolor\":\"white\",\"ticks\":\"\"},\"bgcolor\":\"#E5ECF6\",\"caxis\":{\"gridcolor\":\"white\",\"linecolor\":\"white\",\"ticks\":\"\"}},\"title\":{\"x\":0.05},\"xaxis\":{\"automargin\":true,\"gridcolor\":\"white\",\"linecolor\":\"white\",\"ticks\":\"\",\"title\":{\"standoff\":15},\"zerolinecolor\":\"white\",\"zerolinewidth\":2},\"yaxis\":{\"automargin\":true,\"gridcolor\":\"white\",\"linecolor\":\"white\",\"ticks\":\"\",\"title\":{\"standoff\":15},\"zerolinecolor\":\"white\",\"zerolinewidth\":2}}},\"title\":{\"text\":\"Prediction variation for feature 'neighbourhood_cleansed'\"},\"xaxis\":{\"showticklabels\":false,\"tickmode\":\"array\",\"ticktext\":[\"(-inf, 1.5000]\",\"(1.5000, 3.5000]\",\"(3.5000, 4.5000]\",\"(4.5000, 5.5000]\",\"(5.5000, 6.5000]\",\"(6.5000, 7.5000]\",\"(7.5000, 8.5000]\",\"(8.5000, 9.5000]\",\"(9.5000, 11.5000]\",\"(11.5000, 12.5000]\",\"(12.5000, 13.5000]\",\"(13.5000, 14.5000]\",\"(14.5000, 21.5000]\",\"(21.5000, 22.5000]\",\"(22.5000, 23.5000]\",\"(23.5000, 25.5000]\",\"(25.5000, 26.5000]\",\"(26.5000, 27.5000]\",\"(27.5000, 30.5000]\",\"(30.5000, 33.5000]\",\"(33.5000, 34.5000]\",\"(34.5000, 35.5000]\",\"(35.5000, 36.5000]\",\"(36.5000, 41.5000]\",\"(41.5000, 42.5000]\",\"(42.5000, 44.5000]\",\"(44.5000, 45.5000]\",\"(45.5000, 46.5000]\",\"(46.5000, 47.5000]\",\"(47.5000, 50.5000]\",\"(50.5000, 56.5000]\",\"(56.5000, 57.5000]\",\"(57.5000, 58.5000]\",\"(58.5000, 60.5000]\",\"(60.5000, 61.5000]\",\"(61.5000, 62.5000]\",\"(62.5000, 63.5000]\",\"(63.5000, 64.5000]\",\"(64.5000, 65.5000]\",\"(65.5000, 66.5000]\",\"(66.5000, 68.0000]\",\"(68.0000, 70.5000]\",\"(70.5000, 71.5000]\",\"(71.5000, 72.5000]\",\"(72.5000, 73.5000]\",\"(73.5000, 74.5000]\",\"(74.5000, 75.5000]\",\"(75.5000, 76.5000]\",\"(76.5000, 77.5000]\",\"(77.5000, 78.5000]\",\"(78.5000, 83.5000]\",\"(83.5000, 84.5000]\",\"(84.5000, 88.5000]\",\"(88.5000, 89.5000]\",\"(89.5000, 104.5000]\",\"(104.5000, 107.5000]\",\"(107.5000, 108.5000]\",\"(108.5000, 110.0000]\",\"(110.0000, 111.5000]\",\"(111.5000, 112.5000]\",\"(112.5000, 113.5000]\",\"(113.5000, 115.5000]\",\"(115.5000, 116.5000]\",\"(116.5000, 117.5000]\",\"(117.5000, 118.5000]\",\"(118.5000, 119.5000]\",\"(119.5000, 120.5000]\",\"(120.5000, 121.5000]\",\"(121.5000, 122.5000]\",\"(122.5000, 123.5000]\",\"(123.5000, 124.5000]\",\"(124.5000, 125.5000]\",\"(125.5000, 126.5000]\",\"(126.5000, 127.5000]\",\"(127.5000, 128.5000]\",\"(128.5000, 129.5000]\",\"(129.5000, 130.5000]\",\"(130.5000, 131.5000]\",\"(131.5000, 132.5000]\",\"(132.5000, 133.5000]\",\"(133.5000, 134.5000]\",\"(134.5000, 135.5000]\",\"(135.5000, 138.5000]\",\"(138.5000, 139.5000]\",\"(139.5000, 140.5000]\",\"(140.5000, 143.5000]\",\"(143.5000, 144.5000]\",\"(144.5000, 145.5000]\",\"(145.5000, 146.5000]\",\"(146.5000, 148.5000]\",\"(148.5000, 149.5000]\",\"(149.5000, 150.5000]\",\"(150.5000, +inf)\"],\"tickvals\":[0,1,2,3,4,5,6,7,8,9,10,11,12,13,14,15,16,17,18,19,20,21,22,23,24,25,26,27,28,29,30,31,32,33,34,35,36,37,38,39,40,41,42,43,44,45,46,47,48,49,50,51,52,53,54,55,56,57,58,59,60,61,62,63,64,65,66,67,68,69,70,71,72,73,74,75,76,77,78,79,80,81,82,83,84,85,86,87,88,89,90,91,92],\"title\":{\"text\":\"Bins\"}},\"yaxis\":{\"overlaying\":\"y2\",\"side\":\"left\",\"title\":{\"text\":\"Prediction\"}}},                        {\"responsive\": true}                    ).then(function(){\n",
       "                            \n",
       "var gd = document.getElementById('62192431-e42e-4158-85e3-291b6a5f8613');\n",
       "var x = new MutationObserver(function (mutations, observer) {{\n",
       "        var display = window.getComputedStyle(gd).display;\n",
       "        if (!display || display === 'none') {{\n",
       "            console.log([gd, 'removed!']);\n",
       "            Plotly.purge(gd);\n",
       "            observer.disconnect();\n",
       "        }}\n",
       "}});\n",
       "\n",
       "// Listen for the removal of the full notebook cells\n",
       "var notebookContainer = gd.closest('#notebook-container');\n",
       "if (notebookContainer) {{\n",
       "    x.observe(notebookContainer, {childList: true});\n",
       "}}\n",
       "\n",
       "// Listen for the clearing of the current output cell\n",
       "var outputEl = gd.closest('.output');\n",
       "if (outputEl) {{\n",
       "    x.observe(outputEl, {childList: true});\n",
       "}}\n",
       "\n",
       "                        })                };                });            </script>        </div>"
      ]
     },
     "metadata": {},
     "output_type": "display_data"
    },
    {
     "data": {
      "text/plain": [
       "([{2: [0.0016477166220323358,\n",
       "    0.0005191133130514336,\n",
       "    0.00047611789687607153,\n",
       "    0.0005610644644641338,\n",
       "    0.0005580059314992392,\n",
       "    0.0007029951810514357,\n",
       "    0.0006026234830801558,\n",
       "    0.0005935008197371916,\n",
       "    0.0006015538483598037,\n",
       "    0.0006025219670863224,\n",
       "    0.0006130388679156384,\n",
       "    0.0006174165487681238,\n",
       "    0.0006231540009383751,\n",
       "    0.0006240621483374342,\n",
       "    0.0006221171722035068,\n",
       "    0.0006285582424442326,\n",
       "    0.0006167562808175875,\n",
       "    0.0006243650765443975,\n",
       "    0.0006294758663162314,\n",
       "    0.0006341795157541741,\n",
       "    0.0006363904796390374,\n",
       "    0.0006713355354978079,\n",
       "    0.0006914212188294799,\n",
       "    0.000687766481466956,\n",
       "    0.0007600887508384391,\n",
       "    0.0007838443137880846,\n",
       "    0.00080189355621052,\n",
       "    0.0008104016401758729,\n",
       "    0.0008019978143450901,\n",
       "    0.0010933496752577598,\n",
       "    0.001263412096915606,\n",
       "    0.001370182167545697,\n",
       "    0.0016783770765488315,\n",
       "    0.0017272706863212806,\n",
       "    0.001782155357479387,\n",
       "    0.0019027845309703695,\n",
       "    0.0071720824199711375,\n",
       "    0.001444761892572477,\n",
       "    0.0012247929978467242,\n",
       "    0.0010296612109083059,\n",
       "    0.0010285183339543424,\n",
       "    0.0010162791816253902,\n",
       "    0.0009696701428208998,\n",
       "    0.0009676816790841203,\n",
       "    0.0009697666720410725,\n",
       "    0.0009120934595171493,\n",
       "    0.0009170148862108762,\n",
       "    0.0009150123099762597,\n",
       "    0.0009001307718864426,\n",
       "    0.0008907922319468797,\n",
       "    0.0008926622603172563,\n",
       "    0.000890653518068274],\n",
       "   1: [0.0005237588602496901,\n",
       "    0.0006025219670863224,\n",
       "    0.0006476241389999915,\n",
       "    0.00094308296786072,\n",
       "    0.0011857541408151206,\n",
       "    0.002116203959337426,\n",
       "    0.0020554055721060394,\n",
       "    0.0024209714996139553,\n",
       "    0.00273849809655502,\n",
       "    0.0037311576736724916,\n",
       "    0.003642944344536936,\n",
       "    0.0046143448690072475,\n",
       "    0.004016613767320543,\n",
       "    0.0038597143765466413,\n",
       "    0.003459087075770917,\n",
       "    0.0035445965112073097],\n",
       "   0: [0.0009452629526319756,\n",
       "    0.0009718835811619586,\n",
       "    0.0009366718165076948,\n",
       "    0.0010171827779476006,\n",
       "    0.0011146179921129873,\n",
       "    0.0011562069786467122,\n",
       "    0.0011070079319469572,\n",
       "    0.0006828411624272279,\n",
       "    0.0006181780116857327,\n",
       "    0.0005993106749510035,\n",
       "    0.0006072872463046552,\n",
       "    0.0005758052793051194,\n",
       "    0.0005662095122086486,\n",
       "    0.0005382662744121136,\n",
       "    0.000533286122441301,\n",
       "    0.0005177898475433595,\n",
       "    0.000503454286382099,\n",
       "    0.0005398140889837366,\n",
       "    0.0005471189730200665,\n",
       "    0.0005547926755326005,\n",
       "    0.0006025219670863224,\n",
       "    0.000526560089187389,\n",
       "    0.0004985436083045913,\n",
       "    0.0005004323701626179,\n",
       "    0.0004993447759772396,\n",
       "    0.0004913485669987283,\n",
       "    0.0004892158076074127,\n",
       "    0.00047870612501832444,\n",
       "    0.0004880079879924226,\n",
       "    0.000493921752034443,\n",
       "    0.0004929261229263959,\n",
       "    0.0005102780481066604,\n",
       "    0.0005470598689171213,\n",
       "    0.0005548547193497955,\n",
       "    0.0005562484033944104,\n",
       "    0.0005667404255823572,\n",
       "    0.0005653730422486847,\n",
       "    0.0006854238424152115,\n",
       "    0.0005799666831789452,\n",
       "    0.0005616545809088436,\n",
       "    0.0005384537207389073,\n",
       "    0.0005889914688341769,\n",
       "    0.0005549767911250392,\n",
       "    0.0005461037324212548,\n",
       "    0.0005658969436370676,\n",
       "    0.0006403147276965448,\n",
       "    0.0006796849308368103,\n",
       "    0.0006578598775983657,\n",
       "    0.0006710240962699565,\n",
       "    0.0004777234089377025,\n",
       "    0.00046653835929388876,\n",
       "    0.0004586460113986668,\n",
       "    0.0004571306486158555,\n",
       "    0.00045173263665132524,\n",
       "    0.0004499050304676011,\n",
       "    0.00045209786886912795,\n",
       "    0.0004486419732461222,\n",
       "    0.0004513954834624023,\n",
       "    0.00045718853810283733,\n",
       "    0.00044712751805375817,\n",
       "    0.00043208763782898174,\n",
       "    0.0004164543594273873,\n",
       "    0.0004039114579037495,\n",
       "    0.00038332635846893837,\n",
       "    0.00038132287715564317,\n",
       "    0.00038577622262403466,\n",
       "    0.0003973898992577496,\n",
       "    0.00041554536523102925,\n",
       "    0.0007622515230250038,\n",
       "    0.0007516567956820097,\n",
       "    0.0007443196272554076,\n",
       "    0.0006989562200936383,\n",
       "    0.000768852897297112,\n",
       "    0.0007605803974706227,\n",
       "    0.0008577732449617237,\n",
       "    0.0006762430691145127,\n",
       "    0.0009242033382417247,\n",
       "    0.0003838395896149649,\n",
       "    0.00037701016399971365,\n",
       "    0.0003652836852250374,\n",
       "    0.00035618859121022695,\n",
       "    0.0003451393413040904,\n",
       "    0.00034557158752868133,\n",
       "    0.0003456407405035833,\n",
       "    0.00034353290013022786,\n",
       "    0.00033605149138615786,\n",
       "    0.00032986961997316655,\n",
       "    0.000327624454255826,\n",
       "    0.00033110293423810333,\n",
       "    0.00034432326168420957,\n",
       "    0.0003608565519339635,\n",
       "    0.00037300658238859086,\n",
       "    0.0003761995147426589]},\n",
       "  {2: [0.0016477166220323358,\n",
       "    0.0005191133130514336,\n",
       "    0.00047611789687607153,\n",
       "    0.0005610644644641338,\n",
       "    0.0005580059314992392,\n",
       "    0.0007029951810514357,\n",
       "    0.0006026234830801558,\n",
       "    0.0005935008197371916,\n",
       "    0.0006015538483598037,\n",
       "    0.0006025219670863224,\n",
       "    0.0006130388679156384,\n",
       "    0.0006174165487681238,\n",
       "    0.0006231540009383751,\n",
       "    0.0006240621483374342,\n",
       "    0.0006221171722035068,\n",
       "    0.0006285582424442326,\n",
       "    0.0006167562808175875,\n",
       "    0.0006243650765443975,\n",
       "    0.0006294758663162314,\n",
       "    0.0006341795157541741,\n",
       "    0.0006363904796390374,\n",
       "    0.0006713355354978079,\n",
       "    0.0006914212188294799,\n",
       "    0.000687766481466956,\n",
       "    0.0007600887508384391,\n",
       "    0.0007838443137880846,\n",
       "    0.00080189355621052,\n",
       "    0.0008104016401758729,\n",
       "    0.0008019978143450901,\n",
       "    0.0010933496752577598,\n",
       "    0.001263412096915606,\n",
       "    0.001370182167545697,\n",
       "    0.0016783770765488315,\n",
       "    0.0017272706863212806,\n",
       "    0.001782155357479387,\n",
       "    0.0019027845309703695,\n",
       "    0.0071720824199711375,\n",
       "    0.001444761892572477,\n",
       "    0.0012247929978467242,\n",
       "    0.0010296612109083059,\n",
       "    0.0010285183339543424,\n",
       "    0.0010162791816253902,\n",
       "    0.0009696701428208998,\n",
       "    0.0009676816790841203,\n",
       "    0.0009697666720410725,\n",
       "    0.0009120934595171493,\n",
       "    0.0009170148862108762,\n",
       "    0.0009150123099762597,\n",
       "    0.0009001307718864426,\n",
       "    0.0008907922319468797,\n",
       "    0.0008926622603172563,\n",
       "    0.000890653518068274],\n",
       "   1: [0.0005237588602496901,\n",
       "    0.0006025219670863224,\n",
       "    0.0006476241389999915,\n",
       "    0.00094308296786072,\n",
       "    0.0011857541408151206,\n",
       "    0.002116203959337426,\n",
       "    0.0020554055721060394,\n",
       "    0.0024209714996139553,\n",
       "    0.00273849809655502,\n",
       "    0.0037311576736724916,\n",
       "    0.003642944344536936,\n",
       "    0.0046143448690072475,\n",
       "    0.004016613767320543,\n",
       "    0.0038597143765466413,\n",
       "    0.003459087075770917,\n",
       "    0.0035445965112073097],\n",
       "   0: [0.0009452629526319756,\n",
       "    0.0009718835811619586,\n",
       "    0.0009366718165076948,\n",
       "    0.0010171827779476006,\n",
       "    0.0011146179921129873,\n",
       "    0.0011562069786467122,\n",
       "    0.0011070079319469572,\n",
       "    0.0006828411624272279,\n",
       "    0.0006181780116857327,\n",
       "    0.0005993106749510035,\n",
       "    0.0006072872463046552,\n",
       "    0.0005758052793051194,\n",
       "    0.0005662095122086486,\n",
       "    0.0005382662744121136,\n",
       "    0.000533286122441301,\n",
       "    0.0005177898475433595,\n",
       "    0.000503454286382099,\n",
       "    0.0005398140889837366,\n",
       "    0.0005471189730200665,\n",
       "    0.0005547926755326005,\n",
       "    0.0006025219670863224,\n",
       "    0.000526560089187389,\n",
       "    0.0004985436083045913,\n",
       "    0.0005004323701626179,\n",
       "    0.0004993447759772396,\n",
       "    0.0004913485669987283,\n",
       "    0.0004892158076074127,\n",
       "    0.00047870612501832444,\n",
       "    0.0004880079879924226,\n",
       "    0.000493921752034443,\n",
       "    0.0004929261229263959,\n",
       "    0.0005102780481066604,\n",
       "    0.0005470598689171213,\n",
       "    0.0005548547193497955,\n",
       "    0.0005562484033944104,\n",
       "    0.0005667404255823572,\n",
       "    0.0005653730422486847,\n",
       "    0.0006854238424152115,\n",
       "    0.0005799666831789452,\n",
       "    0.0005616545809088436,\n",
       "    0.0005384537207389073,\n",
       "    0.0005889914688341769,\n",
       "    0.0005549767911250392,\n",
       "    0.0005461037324212548,\n",
       "    0.0005658969436370676,\n",
       "    0.0006403147276965448,\n",
       "    0.0006796849308368103,\n",
       "    0.0006578598775983657,\n",
       "    0.0006710240962699565,\n",
       "    0.0004777234089377025,\n",
       "    0.00046653835929388876,\n",
       "    0.0004586460113986668,\n",
       "    0.0004571306486158555,\n",
       "    0.00045173263665132524,\n",
       "    0.0004499050304676011,\n",
       "    0.00045209786886912795,\n",
       "    0.0004486419732461222,\n",
       "    0.0004513954834624023,\n",
       "    0.00045718853810283733,\n",
       "    0.00044712751805375817,\n",
       "    0.00043208763782898174,\n",
       "    0.0004164543594273873,\n",
       "    0.0004039114579037495,\n",
       "    0.00038332635846893837,\n",
       "    0.00038132287715564317,\n",
       "    0.00038577622262403466,\n",
       "    0.0003973898992577496,\n",
       "    0.00041554536523102925,\n",
       "    0.0007622515230250038,\n",
       "    0.0007516567956820097,\n",
       "    0.0007443196272554076,\n",
       "    0.0006989562200936383,\n",
       "    0.000768852897297112,\n",
       "    0.0007605803974706227,\n",
       "    0.0008577732449617237,\n",
       "    0.0006762430691145127,\n",
       "    0.0009242033382417247,\n",
       "    0.0003838395896149649,\n",
       "    0.00037701016399971365,\n",
       "    0.0003652836852250374,\n",
       "    0.00035618859121022695,\n",
       "    0.0003451393413040904,\n",
       "    0.00034557158752868133,\n",
       "    0.0003456407405035833,\n",
       "    0.00034353290013022786,\n",
       "    0.00033605149138615786,\n",
       "    0.00032986961997316655,\n",
       "    0.000327624454255826,\n",
       "    0.00033110293423810333,\n",
       "    0.00034432326168420957,\n",
       "    0.0003608565519339635,\n",
       "    0.00037300658238859086,\n",
       "    0.0003761995147426589]}],\n",
       " [Figure({\n",
       "      'data': [{'mode': 'lines+markers',\n",
       "                'name': 'Document 0 predictions',\n",
       "                'type': 'scatter',\n",
       "                'y': [0.0008324099964613918, 0.0006344318900304291,\n",
       "                      0.000656732055964282, 0.0006922218953302472,\n",
       "                      0.0006905462288799846, 0.0007791213345940129,\n",
       "                      0.0006825653912754248, 0.0006772843430011832,\n",
       "                      0.0006853373716237954, 0.0006854238424152115,\n",
       "                      0.0006959407432445275, 0.0007003184240970128,\n",
       "                      0.0007060558762672642, 0.0007069640236663233,\n",
       "                      0.0007050190475323959, 0.0007114601177731217,\n",
       "                      0.0007058903423411422, 0.0007134991380679523,\n",
       "                      0.0007185607058728394, 0.000723264355310782,\n",
       "                      0.0007254753191956453, 0.0007193818164479282,\n",
       "                      0.0007289310258782322, 0.0007247187099777008,\n",
       "                      0.0006900498347333084, 0.0007290043314069905,\n",
       "                      0.0007313118871907776, 0.0007398199711561304,\n",
       "                      0.0007314161453253476, 0.0013742914271270834,\n",
       "                      0.0018058617170444435, 0.0009597593211614353,\n",
       "                      0.001052722308755527, 0.0010869174756882316,\n",
       "                      0.0010454821223353505, 0.0010491816709743418,\n",
       "                      0.004390628922858575, 0.0007443992436106939,\n",
       "                      0.0007421042069450934, 0.0005926020379503072,\n",
       "                      0.0005914591609963438, 0.0005774042766191201,\n",
       "                      0.0005356924825221654, 0.0005337040187853859,\n",
       "                      0.0005352961031306336, 0.00047762289060671037,\n",
       "                      0.0004779638567597999, 0.0004733175265378975,\n",
       "                      0.0004584359884480804, 0.0004490974485085175,\n",
       "                      0.00045096747687889405, 0.00044895873462991176]},\n",
       "               {'showlegend': False, 'type': 'scatter', 'x': [0], 'y': [0.0008324099964613918]},\n",
       "               {'mode': 'lines+markers',\n",
       "                'name': 'Document 1 predictions',\n",
       "                'type': 'scatter',\n",
       "                'y': [0.0016477166220323358, 0.0005191133130514336,\n",
       "                      0.00047611789687607153, 0.0005610644644641338,\n",
       "                      0.0005580059314992392, 0.0007029951810514357,\n",
       "                      0.0006026234830801558, 0.0005935008197371916,\n",
       "                      0.0006015538483598037, 0.0006025219670863224,\n",
       "                      0.0006130388679156384, 0.0006174165487681238,\n",
       "                      0.0006231540009383751, 0.0006240621483374342,\n",
       "                      0.0006221171722035068, 0.0006285582424442326,\n",
       "                      0.0006167562808175875, 0.0006243650765443975,\n",
       "                      0.0006294758663162314, 0.0006341795157541741,\n",
       "                      0.0006363904796390374, 0.0006713355354978079,\n",
       "                      0.0006914212188294799, 0.000687766481466956,\n",
       "                      0.0007600887508384391, 0.0007838443137880846,\n",
       "                      0.00080189355621052, 0.0008104016401758729,\n",
       "                      0.0008019978143450901, 0.0010933496752577598,\n",
       "                      0.001263412096915606, 0.001370182167545697,\n",
       "                      0.0016783770765488315, 0.0017272706863212806,\n",
       "                      0.001782155357479387, 0.0019027845309703695,\n",
       "                      0.0071720824199711375, 0.001444761892572477,\n",
       "                      0.0012247929978467242, 0.0010296612109083059,\n",
       "                      0.0010285183339543424, 0.0010162791816253902,\n",
       "                      0.0009696701428208998, 0.0009676816790841203,\n",
       "                      0.0009697666720410725, 0.0009120934595171493,\n",
       "                      0.0009170148862108762, 0.0009150123099762597,\n",
       "                      0.0009001307718864426, 0.0008907922319468797,\n",
       "                      0.0008926622603172563, 0.000890653518068274]},\n",
       "               {'showlegend': False, 'type': 'scatter', 'x': [9], 'y': [0.0006025219670863224]}],\n",
       "      'layout': {'template': '...',\n",
       "                 'title': {'text': \"Prediction variation for feature 'minimum_minimum_nights'\"},\n",
       "                 'xaxis': {'showticklabels': False,\n",
       "                           'tickmode': 'array',\n",
       "                           'ticktext': [(-inf, 1.5000], (1.5000, 2.5000], (2.5000,\n",
       "                                        3.5000], (3.5000, 4.5000], (4.5000, 5.5000],\n",
       "                                        (5.5000, 6.5000], (6.5000, 7.5000], (7.5000,\n",
       "                                        8.5000], (8.5000, 9.5000], (9.5000, 10.5000],\n",
       "                                        (10.5000, 11.5000], (11.5000, 12.5000],\n",
       "                                        (12.5000, 13.5000], (13.5000, 14.5000],\n",
       "                                        (14.5000, 15.5000], (15.5000, 16.5000],\n",
       "                                        (16.5000, 17.5000], (17.5000, 19.5000],\n",
       "                                        (19.5000, 22.5000], (22.5000, 24.5000],\n",
       "                                        (24.5000, 26.5000], (26.5000, 27.5000],\n",
       "                                        (27.5000, 28.5000], (28.5000, 29.5000],\n",
       "                                        (29.5000, 30.5000], (30.5000, 31.5000],\n",
       "                                        (31.5000, 33.0000], (33.0000, 35.0000],\n",
       "                                        (35.0000, 38.0000], (38.0000, 45.0000],\n",
       "                                        (45.0000, 51.0000], (51.0000, 56.0000],\n",
       "                                        (56.0000, 70.0000], (70.0000, 82.5000],\n",
       "                                        (82.5000, 87.5000], (87.5000, 95.0000],\n",
       "                                        (95.0000, 104.5000], (104.5000, 114.5000],\n",
       "                                        (114.5000, 123.0000], (123.0000, 181.0000],\n",
       "                                        (181.0000, 183.0000], (183.0000, 192.0000],\n",
       "                                        (192.0000, 205.0000], (205.0000, 255.0000],\n",
       "                                        (255.0000, 330.0000], (330.0000, 362.0000],\n",
       "                                        (362.0000, 364.5000], (364.5000, 432.5000],\n",
       "                                        (432.5000, 565.0000], (565.0000, 680.0000],\n",
       "                                        (680.0000, 865.0000], (865.0000, +inf)],\n",
       "                           'tickvals': [0, 1, 2, 3, 4, 5, 6, 7, 8, 9, 10, 11, 12,\n",
       "                                        13, 14, 15, 16, 17, 18, 19, 20, 21, 22, 23,\n",
       "                                        24, 25, 26, 27, 28, 29, 30, 31, 32, 33, 34,\n",
       "                                        35, 36, 37, 38, 39, 40, 41, 42, 43, 44, 45,\n",
       "                                        46, 47, 48, 49, 50, 51],\n",
       "                           'title': {'text': 'Bins'}},\n",
       "                 'yaxis': {'overlaying': 'y2', 'side': 'left', 'title': {'text': 'Prediction'}}}\n",
       "  }),\n",
       "  Figure({\n",
       "      'data': [{'mode': 'lines+markers',\n",
       "                'name': 'Document 0 predictions',\n",
       "                'type': 'scatter',\n",
       "                'y': [0.0007255796956335825, 0.0008324099964613918,\n",
       "                      0.0009544603955606856, 0.0018501644439730125,\n",
       "                      0.0016085136143120238, 0.0018121857397908059,\n",
       "                      0.0018571931655664287, 0.00306812537577672,\n",
       "                      0.0025408147630803235, 0.002827378686128146,\n",
       "                      0.002423503002081606, 0.003516874724699637,\n",
       "                      0.003875711567124629, 0.004267247661060569,\n",
       "                      0.003341403663889242, 0.0033143263091224284]},\n",
       "               {'showlegend': False, 'type': 'scatter', 'x': [1], 'y': [0.0008324099964613918]},\n",
       "               {'mode': 'lines+markers',\n",
       "                'name': 'Document 1 predictions',\n",
       "                'type': 'scatter',\n",
       "                'y': [0.0005237588602496901, 0.0006025219670863224,\n",
       "                      0.0006476241389999915, 0.00094308296786072,\n",
       "                      0.0011857541408151206, 0.002116203959337426,\n",
       "                      0.0020554055721060394, 0.0024209714996139553,\n",
       "                      0.00273849809655502, 0.0037311576736724916,\n",
       "                      0.003642944344536936, 0.0046143448690072475,\n",
       "                      0.004016613767320543, 0.0038597143765466413,\n",
       "                      0.003459087075770917, 0.0035445965112073097]},\n",
       "               {'showlegend': False, 'type': 'scatter', 'x': [1], 'y': [0.0006025219670863224]}],\n",
       "      'layout': {'template': '...',\n",
       "                 'title': {'text': \"Prediction variation for feature 'accommodates'\"},\n",
       "                 'xaxis': {'showticklabels': False,\n",
       "                           'tickmode': 'array',\n",
       "                           'ticktext': [(-inf, 1.5000], (1.5000, 2.5000], (2.5000,\n",
       "                                        3.5000], (3.5000, 4.5000], (4.5000, 5.5000],\n",
       "                                        (5.5000, 6.5000], (6.5000, 7.5000], (7.5000,\n",
       "                                        8.5000], (8.5000, 9.5000], (9.5000, 10.5000],\n",
       "                                        (10.5000, 11.5000], (11.5000, 12.5000],\n",
       "                                        (12.5000, 13.5000], (13.5000, 14.5000],\n",
       "                                        (14.5000, 15.5000], (15.5000, +inf)],\n",
       "                           'tickvals': [0, 1, 2, 3, 4, 5, 6, 7, 8, 9, 10, 11, 12,\n",
       "                                        13, 14, 15],\n",
       "                           'title': {'text': 'Bins'}},\n",
       "                 'yaxis': {'overlaying': 'y2', 'side': 'left', 'title': {'text': 'Prediction'}}}\n",
       "  }),\n",
       "  Figure({\n",
       "      'data': [{'mode': 'lines+markers',\n",
       "                'name': 'Document 0 predictions',\n",
       "                'type': 'scatter',\n",
       "                'y': [0.0007401970477809439, 0.0007785650172642544,\n",
       "                      0.0008425604658384156, 0.000760497852404951,\n",
       "                      0.0007305194341575838, 0.0007216810434023113,\n",
       "                      0.0007463985045965682, 0.0005821192065689207,\n",
       "                      0.0005641528753905778, 0.0006481507311868473,\n",
       "                      0.0006541512133886318, 0.0006572683351386832,\n",
       "                      0.0006606671559474808, 0.0006535907310116773,\n",
       "                      0.0006504383755363552, 0.0006418096190181632,\n",
       "                      0.0006411853386716349, 0.000779781288529735,\n",
       "                      0.000792789650618575, 0.0008385960611729804,\n",
       "                      0.0016477166220323358, 0.0008254886436322995,\n",
       "                      0.0007706701502823154, 0.0007674589965429579,\n",
       "                      0.0007599436697003359, 0.0007040853583160089,\n",
       "                      0.000698406053069478, 0.0006794936226779402,\n",
       "                      0.0006856078326873405, 0.00069783713322491,\n",
       "                      0.0006834061025753346, 0.0006668239323002201,\n",
       "                      0.000687674159416618, 0.000691491021208579,\n",
       "                      0.0006930550657753276, 0.0006954705657669091,\n",
       "                      0.0006976358079888723, 0.0008324099964613918,\n",
       "                      0.0006831043041291007, 0.000655722635157785,\n",
       "                      0.0006326580531907933, 0.0005949302908703213,\n",
       "                      0.0005998528582036311, 0.0005968773359918966,\n",
       "                      0.0006160849531353652, 0.0008559146316555744,\n",
       "                      0.0006960912837234989, 0.0006804092701335751,\n",
       "                      0.0006768331481998846, 0.0005155890795769391,\n",
       "                      0.0005066152942780899, 0.0005025037294152934,\n",
       "                      0.0005053529939622603, 0.0005052860301553164,\n",
       "                      0.000509835862154473, 0.0005120287005559998,\n",
       "                      0.0005143250938608457, 0.000514960504148787,\n",
       "                      0.0005146024080893152, 0.0005219875914981298,\n",
       "                      0.0005325582005617502, 0.0005448449624487761,\n",
       "                      0.000542649578620269, 0.0005431344406339189,\n",
       "                      0.000540614793451466, 0.0005463323624759209,\n",
       "                      0.0005430561080153051, 0.0004253781294785153,\n",
       "                      0.0005452978689206578, 0.0005408766997050396,\n",
       "                      0.000541708002199881, 0.0005064816100286418,\n",
       "                      0.0005180151180013137, 0.0005201862654302669,\n",
       "                      0.0005456792218658801, 0.000791471136875499,\n",
       "                      0.00016092289425151396, 0.00039110657895635725,\n",
       "                      0.0003998279714889641, 0.00039893319877792877,\n",
       "                      0.0003978841587124471, 0.00039646220808409183,\n",
       "                      0.000404077353675536, 0.0004132970971224559,\n",
       "                      0.0004260212838400612, 0.00043631048636116887,\n",
       "                      0.00044227003406804855, 0.00042302271088745513,\n",
       "                      0.0003864695986064426, 0.0003846822690118934,\n",
       "                      0.00038135224314972405, 0.00037570339531756147,\n",
       "                      0.0003755417770574532]},\n",
       "               {'showlegend': False, 'type': 'scatter', 'x': [37], 'y': [0.0008324099964613918]},\n",
       "               {'mode': 'lines+markers',\n",
       "                'name': 'Document 1 predictions',\n",
       "                'type': 'scatter',\n",
       "                'y': [0.0009452629526319756, 0.0009718835811619586,\n",
       "                      0.0009366718165076948, 0.0010171827779476006,\n",
       "                      0.0011146179921129873, 0.0011562069786467122,\n",
       "                      0.0011070079319469572, 0.0006828411624272279,\n",
       "                      0.0006181780116857327, 0.0005993106749510035,\n",
       "                      0.0006072872463046552, 0.0005758052793051194,\n",
       "                      0.0005662095122086486, 0.0005382662744121136,\n",
       "                      0.000533286122441301, 0.0005177898475433595,\n",
       "                      0.000503454286382099, 0.0005398140889837366,\n",
       "                      0.0005471189730200665, 0.0005547926755326005,\n",
       "                      0.0006025219670863224, 0.000526560089187389,\n",
       "                      0.0004985436083045913, 0.0005004323701626179,\n",
       "                      0.0004993447759772396, 0.0004913485669987283,\n",
       "                      0.0004892158076074127, 0.00047870612501832444,\n",
       "                      0.0004880079879924226, 0.000493921752034443,\n",
       "                      0.0004929261229263959, 0.0005102780481066604,\n",
       "                      0.0005470598689171213, 0.0005548547193497955,\n",
       "                      0.0005562484033944104, 0.0005667404255823572,\n",
       "                      0.0005653730422486847, 0.0006854238424152115,\n",
       "                      0.0005799666831789452, 0.0005616545809088436,\n",
       "                      0.0005384537207389073, 0.0005889914688341769,\n",
       "                      0.0005549767911250392, 0.0005461037324212548,\n",
       "                      0.0005658969436370676, 0.0006403147276965448,\n",
       "                      0.0006796849308368103, 0.0006578598775983657,\n",
       "                      0.0006710240962699565, 0.0004777234089377025,\n",
       "                      0.00046653835929388876, 0.0004586460113986668,\n",
       "                      0.0004571306486158555, 0.00045173263665132524,\n",
       "                      0.0004499050304676011, 0.00045209786886912795,\n",
       "                      0.0004486419732461222, 0.0004513954834624023,\n",
       "                      0.00045718853810283733, 0.00044712751805375817,\n",
       "                      0.00043208763782898174, 0.0004164543594273873,\n",
       "                      0.0004039114579037495, 0.00038332635846893837,\n",
       "                      0.00038132287715564317, 0.00038577622262403466,\n",
       "                      0.0003973898992577496, 0.00041554536523102925,\n",
       "                      0.0007622515230250038, 0.0007516567956820097,\n",
       "                      0.0007443196272554076, 0.0006989562200936383,\n",
       "                      0.000768852897297112, 0.0007605803974706227,\n",
       "                      0.0008577732449617237, 0.0006762430691145127,\n",
       "                      0.0009242033382417247, 0.0003838395896149649,\n",
       "                      0.00037701016399971365, 0.0003652836852250374,\n",
       "                      0.00035618859121022695, 0.0003451393413040904,\n",
       "                      0.00034557158752868133, 0.0003456407405035833,\n",
       "                      0.00034353290013022786, 0.00033605149138615786,\n",
       "                      0.00032986961997316655, 0.000327624454255826,\n",
       "                      0.00033110293423810333, 0.00034432326168420957,\n",
       "                      0.0003608565519339635, 0.00037300658238859086,\n",
       "                      0.0003761995147426589]},\n",
       "               {'showlegend': False, 'type': 'scatter', 'x': [20], 'y': [0.0006025219670863224]}],\n",
       "      'layout': {'template': '...',\n",
       "                 'title': {'text': \"Prediction variation for feature 'neighbourhood_cleansed'\"},\n",
       "                 'xaxis': {'showticklabels': False,\n",
       "                           'tickmode': 'array',\n",
       "                           'ticktext': [(-inf, 1.5000], (1.5000, 3.5000], (3.5000,\n",
       "                                        4.5000], (4.5000, 5.5000], (5.5000, 6.5000],\n",
       "                                        (6.5000, 7.5000], (7.5000, 8.5000], (8.5000,\n",
       "                                        9.5000], (9.5000, 11.5000], (11.5000,\n",
       "                                        12.5000], (12.5000, 13.5000], (13.5000,\n",
       "                                        14.5000], (14.5000, 21.5000], (21.5000,\n",
       "                                        22.5000], (22.5000, 23.5000], (23.5000,\n",
       "                                        25.5000], (25.5000, 26.5000], (26.5000,\n",
       "                                        27.5000], (27.5000, 30.5000], (30.5000,\n",
       "                                        33.5000], (33.5000, 34.5000], (34.5000,\n",
       "                                        35.5000], (35.5000, 36.5000], (36.5000,\n",
       "                                        41.5000], (41.5000, 42.5000], (42.5000,\n",
       "                                        44.5000], (44.5000, 45.5000], (45.5000,\n",
       "                                        46.5000], (46.5000, 47.5000], (47.5000,\n",
       "                                        50.5000], (50.5000, 56.5000], (56.5000,\n",
       "                                        57.5000], (57.5000, 58.5000], (58.5000,\n",
       "                                        60.5000], (60.5000, 61.5000], (61.5000,\n",
       "                                        62.5000], (62.5000, 63.5000], (63.5000,\n",
       "                                        64.5000], (64.5000, 65.5000], (65.5000,\n",
       "                                        66.5000], (66.5000, 68.0000], (68.0000,\n",
       "                                        70.5000], (70.5000, 71.5000], (71.5000,\n",
       "                                        72.5000], (72.5000, 73.5000], (73.5000,\n",
       "                                        74.5000], (74.5000, 75.5000], (75.5000,\n",
       "                                        76.5000], (76.5000, 77.5000], (77.5000,\n",
       "                                        78.5000], (78.5000, 83.5000], (83.5000,\n",
       "                                        84.5000], (84.5000, 88.5000], (88.5000,\n",
       "                                        89.5000], (89.5000, 104.5000], (104.5000,\n",
       "                                        107.5000], (107.5000, 108.5000], (108.5000,\n",
       "                                        110.0000], (110.0000, 111.5000], (111.5000,\n",
       "                                        112.5000], (112.5000, 113.5000], (113.5000,\n",
       "                                        115.5000], (115.5000, 116.5000], (116.5000,\n",
       "                                        117.5000], (117.5000, 118.5000], (118.5000,\n",
       "                                        119.5000], (119.5000, 120.5000], (120.5000,\n",
       "                                        121.5000], (121.5000, 122.5000], (122.5000,\n",
       "                                        123.5000], (123.5000, 124.5000], (124.5000,\n",
       "                                        125.5000], (125.5000, 126.5000], (126.5000,\n",
       "                                        127.5000], (127.5000, 128.5000], (128.5000,\n",
       "                                        129.5000], (129.5000, 130.5000], (130.5000,\n",
       "                                        131.5000], (131.5000, 132.5000], (132.5000,\n",
       "                                        133.5000], (133.5000, 134.5000], (134.5000,\n",
       "                                        135.5000], (135.5000, 138.5000], (138.5000,\n",
       "                                        139.5000], (139.5000, 140.5000], (140.5000,\n",
       "                                        143.5000], (143.5000, 144.5000], (144.5000,\n",
       "                                        145.5000], (145.5000, 146.5000], (146.5000,\n",
       "                                        148.5000], (148.5000, 149.5000], (149.5000,\n",
       "                                        150.5000], (150.5000, +inf)],\n",
       "                           'tickvals': [0, 1, 2, 3, 4, 5, 6, 7, 8, 9, 10, 11, 12,\n",
       "                                        13, 14, 15, 16, 17, 18, 19, 20, 21, 22, 23,\n",
       "                                        24, 25, 26, 27, 28, 29, 30, 31, 32, 33, 34,\n",
       "                                        35, 36, 37, 38, 39, 40, 41, 42, 43, 44, 45,\n",
       "                                        46, 47, 48, 49, 50, 51, 52, 53, 54, 55, 56,\n",
       "                                        57, 58, 59, 60, 61, 62, 63, 64, 65, 66, 67,\n",
       "                                        68, 69, 70, 71, 72, 73, 74, 75, 76, 77, 78,\n",
       "                                        79, 80, 81, 82, 83, 84, 85, 86, 87, 88, 89,\n",
       "                                        90, 91, 92],\n",
       "                           'title': {'text': 'Bins'}},\n",
       "                 'yaxis': {'overlaying': 'y2', 'side': 'left', 'title': {'text': 'Prediction'}}}\n",
       "  })])"
      ]
     },
     "execution_count": 15,
     "metadata": {},
     "output_type": "execute_result"
    }
   ],
   "source": [
    "train_pool = Pool(x, y)\n",
    "\n",
    "train_pool_slice = train_pool.slice([1, 4])\n",
    "\n",
    "prediction_diff = model.get_feature_importance(\n",
    "    train_pool_slice,\n",
    "    type='PredictionDiff',\n",
    "    prettified=True,\n",
    "    verbose=False,\n",
    ")\n",
    "\n",
    "model.plot_predictions(\n",
    "    data=train_pool_slice,\n",
    "    features_to_change=prediction_diff['Feature Id'],\n",
    "    plot=True\n",
    ")"
   ]
  },
  {
   "cell_type": "code",
   "execution_count": 16,
   "id": "491b5fd0-0110-45e0-8b75-316255dc751c",
   "metadata": {},
   "outputs": [
    {
     "name": "stdout",
     "output_type": "stream",
     "text": [
      "RMSE in Y units: 0.0035015222365704975\n"
     ]
    }
   ],
   "source": [
    "rmse = sqrt(metrics.mean_squared_error(y_test, predictions))\n",
    "\n",
    "print('RMSE in Y units:', mean(rmse))"
   ]
  },
  {
   "cell_type": "code",
   "execution_count": 17,
   "id": "091b4720-64c7-400f-8708-4824a2196513",
   "metadata": {},
   "outputs": [
    {
     "data": {
      "text/plain": [
       "(1.0, 0.0012295992346480489)"
      ]
     },
     "execution_count": 17,
     "metadata": {},
     "output_type": "execute_result"
    }
   ],
   "source": [
    "model.get_scale_and_bias()"
   ]
  },
  {
   "cell_type": "markdown",
   "id": "a23d447a-5841-4aa6-b1c3-ab5088c6ad7b",
   "metadata": {},
   "source": [
    "## Export"
   ]
  },
  {
   "cell_type": "code",
   "execution_count": 18,
   "id": "8033b098-172b-4798-ace8-fbd18780f0a0",
   "metadata": {},
   "outputs": [],
   "source": [
    "model.save_model('model.cbm', format='cbm')"
   ]
  }
 ],
 "metadata": {
  "kernelspec": {
   "display_name": "Python 3 (ipykernel)",
   "language": "python",
   "name": "python3"
  },
  "language_info": {
   "codemirror_mode": {
    "name": "ipython",
    "version": 3
   },
   "file_extension": ".py",
   "mimetype": "text/x-python",
   "name": "python",
   "nbconvert_exporter": "python",
   "pygments_lexer": "ipython3",
   "version": "3.8.10"
  }
 },
 "nbformat": 4,
 "nbformat_minor": 5
}
