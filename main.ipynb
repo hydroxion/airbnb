{
 "cells": [
  {
   "cell_type": "markdown",
   "id": "107f886d-be3f-4d57-aeff-2a1aa44d100f",
   "metadata": {},
   "source": [
    "# Airbnb\n",
    "\n",
    "Airbnb rent price forecasting."
   ]
  },
  {
   "cell_type": "markdown",
   "id": "4ab082ff-061a-4157-a98d-403aedc82a94",
   "metadata": {},
   "source": [
    "## Dependencies"
   ]
  },
  {
   "cell_type": "code",
   "execution_count": null,
   "id": "c4074bdc-88a6-402b-8711-022b156a9189",
   "metadata": {},
   "outputs": [],
   "source": [
    "import pandas\n",
    "\n",
    "import re\n",
    "\n",
    "import matplotlib.pyplot as pyplot\n",
    "\n",
    "import sklearn.model_selection as model_selection\n",
    "\n",
    "import catboost\n",
    "\n",
    "import sys"
   ]
  },
  {
   "cell_type": "markdown",
   "id": "5950ce6e-1d62-4a50-bc21-c854f2350587",
   "metadata": {},
   "source": [
    "## Data\n",
    "\n",
    "Data exploration, visualization, transformation and selection."
   ]
  },
  {
   "cell_type": "code",
   "execution_count": null,
   "id": "3e56d424-7f87-40de-9e1e-1e0de65c0fd8",
   "metadata": {},
   "outputs": [],
   "source": [
    "data = pandas.read_csv(\n",
    "    './data/airbnb.csv',\n",
    "    usecols=[\n",
    "        'number_of_reviews',\n",
    "        'review_scores_rating',\n",
    "        'review_scores_location',\n",
    "        'review_scores_value',\n",
    "        'price'\n",
    "    ],\n",
    "    converters={\n",
    "        'price': lambda value: float(re.sub(r'[^\\d\\-.]', '', value))\n",
    "    },\n",
    "    nrows=100\n",
    ")"
   ]
  },
  {
   "cell_type": "code",
   "execution_count": null,
   "id": "f02a904c-9d44-4380-a105-e8db0e0d458a",
   "metadata": {},
   "outputs": [],
   "source": [
    "data.dropna(how='any', inplace=True)"
   ]
  },
  {
   "cell_type": "code",
   "execution_count": null,
   "id": "5d81327d-d5b6-40ee-b50f-4a2bb29026b1",
   "metadata": {},
   "outputs": [],
   "source": [
    "data.drop(data[data.price <= 0].index, inplace=True)"
   ]
  },
  {
   "cell_type": "code",
   "execution_count": null,
   "id": "4a542978-f13d-4902-b0a5-dbd63f5d160d",
   "metadata": {},
   "outputs": [],
   "source": [
    "data.head()"
   ]
  },
  {
   "cell_type": "code",
   "execution_count": null,
   "id": "5e540c4d-fe63-45d6-a093-a327f8f2420c",
   "metadata": {},
   "outputs": [],
   "source": [
    "data.describe()"
   ]
  },
  {
   "cell_type": "code",
   "execution_count": null,
   "id": "0b7718dd-60c7-4fe5-adad-ecb34ab5934d",
   "metadata": {},
   "outputs": [],
   "source": [
    "for column in data.columns:\n",
    "    data[column].value_counts().iloc[:20].plot(title=f'{column} (20 samples)', kind='bar', xlabel='Value', ylabel='Frequency', figsize=(20,6))\n",
    "\n",
    "    pyplot.show()"
   ]
  },
  {
   "cell_type": "code",
   "execution_count": null,
   "id": "5c44f0da-cda3-4962-b0c2-84398db7d294",
   "metadata": {},
   "outputs": [],
   "source": [
    "train, labels = data.drop('price', axis=1), data.price"
   ]
  },
  {
   "cell_type": "code",
   "execution_count": null,
   "id": "47506ca4-61ae-487f-9997-93476f187759",
   "metadata": {},
   "outputs": [],
   "source": [
    "x, x_test, y, y_test = model_selection.train_test_split(train, labels, test_size=0.2, train_size=0.8)"
   ]
  },
  {
   "cell_type": "markdown",
   "id": "b69c75c7-e85a-45cf-937b-9ca77076caba",
   "metadata": {},
   "source": [
    "## Model\n",
    "\n",
    "Regression model and random hyperparameter optimization."
   ]
  },
  {
   "cell_type": "code",
   "execution_count": null,
   "id": "6c16546f-410f-4fa1-91cb-d70955f3b804",
   "metadata": {},
   "outputs": [],
   "source": [
    "model = catboost.CatBoostRegressor()"
   ]
  },
  {
   "cell_type": "code",
   "execution_count": null,
   "id": "16d882b6-3fd0-440a-ad93-37ef73fe19d6",
   "metadata": {},
   "outputs": [],
   "source": [
    "f = open('/dev/null', 'w')\n",
    "\n",
    "sys.stdout = f"
   ]
  },
  {
   "cell_type": "code",
   "execution_count": null,
   "id": "5dc405bf-d05f-4800-87ab-98b2d0dc161e",
   "metadata": {},
   "outputs": [],
   "source": [
    "%%capture\n",
    "\n",
    "grid = {\n",
    "    'learning_rate': [0.03, 0.1],\n",
    "    'depth': [4, 6, 10],\n",
    "    'l2_leaf_reg': [1, 3, 5, 7, 9]\n",
    "}\n",
    "\n",
    "model.randomized_search(\n",
    "    grid,\n",
    "    X=x,\n",
    "    y=y,\n",
    "    plot=False,\n",
    "    verbose=False,\n",
    ")"
   ]
  },
  {
   "cell_type": "code",
   "execution_count": null,
   "id": "6ae0dd26-c969-4915-a5a8-700d38c41e16",
   "metadata": {},
   "outputs": [],
   "source": [
    "predictions = model.predict(x_test)"
   ]
  }
 ],
 "metadata": {
  "kernelspec": {
   "display_name": "Python 3 (ipykernel)",
   "language": "python",
   "name": "python3"
  },
  "language_info": {
   "codemirror_mode": {
    "name": "ipython",
    "version": 3
   },
   "file_extension": ".py",
   "mimetype": "text/x-python",
   "name": "python",
   "nbconvert_exporter": "python",
   "pygments_lexer": "ipython3",
   "version": "3.8.10"
  }
 },
 "nbformat": 4,
 "nbformat_minor": 5
}
